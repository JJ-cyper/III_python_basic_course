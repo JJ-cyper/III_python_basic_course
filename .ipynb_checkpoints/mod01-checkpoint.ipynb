{
 "cells": [
  {
   "cell_type": "markdown",
   "metadata": {},
   "source": [
    "# Module_01_Python簡介"
   ]
  },
  {
   "cell_type": "markdown",
   "metadata": {},
   "source": [
    "# P1-4, Python 特色\n",
    ">### 程式導向(Process Oriented Program Language)\n",
    ">- 易於維護\n",
    "><img src=\".\\img\\pop_hierarchy.png\" style='height:300px; width:600px'><br>\n",
    "\n",
    ">### 物件導向(Object-Oriented Program Language)\n",
    ">- 讓程式碼易於理解\n",
    ">- 讓程式碼可以重複使用\n",
    "><img src=\".\\img\\oop_example.png\" style='height:300px; width:600px'><br>\n",
    "\n",
    ">### 程式發展歷史\n",
    "><img src=\".\\img\\oop_history.png\" style='height:300px; width:600px'><br>\n",
    "\n",
    ">### 腳本語言、互動性強⇒一個enter 執行一個敘述"
   ]
  },
  {
   "cell_type": "markdown",
   "metadata": {},
   "source": [
    "# P1-5\n",
    "### 程式語言的成長趨勢\n",
    "><img src=\".\\img\\PythonTrend.png\"  style='height:450px; width:900px'>"
   ]
  },
  {
   "cell_type": "markdown",
   "metadata": {},
   "source": [
    "# P1-6\n",
    "\n",
    ">### 具體來說，靜態語言是指變數是否帶有資料型態，反之則為動態語言。 \n",
    ">>### - 靜態語言寫程序時要聲明所有變量的數據類型， 動態類型語言編程不用給任何變量指定數據類型。\n",
    ">>### - 省略變數類型宣告動作 =>動態語言"
   ]
  },
  {
   "cell_type": "markdown",
   "metadata": {},
   "source": [
    "# P1-14\n",
    "## 命令提示字元(簡稱cmd)\n",
    "## 命令提示字元常用指令\n",
    ">## - 變更目錄 (cd, chdir)\n",
    ">## - 查詢目錄 (dir)\n",
    "## command line 其他常用指令\n",
    ">## 顯示符合指定搜尋模式之檔案的位置。(where)\n",
    ">## 建立目錄 (md, mkdir)\n",
    ">## 刪除目錄 (rd, rmdir)\n",
    ">## 刪除多個 / 一個檔案 (del, erase)\n",
    ">## 移動/更改 檔案/資料夾 名稱 (move)\n",
    ">## 複製檔案 (copy)\n",
    "## command line Python相關指令\n",
    ">### - python -h ⇒查看所有在cmd中的python指令說明\n",
    ">### - python -V(大寫V) ⇒查看版本(模仿linux指令)\n",
    ">### - exit &rArr; 離開cmd\n",
    "---\n",
    "## Python shell \n",
    ">### - ＞＞＞ &rArr; Python的命令提示字元(可以下指令的地方)\n",
    ">### - ．．． &rArr; Python的第二提示字元\n",
    ">### - exit() &rArr; 離開Python shell，是Python的內建function\n",
    "---\n",
    "## print(variable) 與 直接呼叫variable的差異:\n",
    ">### - 直接呼叫variable &rArr; 受益於Python shell 是互動式的，所以才可以直接呼叫變數"
   ]
  },
  {
   "cell_type": "markdown",
   "metadata": {},
   "source": [
    "#### - <font color=red>請注意，使用print()時數字還是文字容易弄混"
   ]
  },
  {
   "cell_type": "code",
   "execution_count": 6,
   "metadata": {},
   "outputs": [
    {
     "name": "stdout",
     "output_type": "stream",
     "text": [
      "123\n",
      "123\n"
     ]
    }
   ],
   "source": [
    "y = 123\n",
    "x = '123'\n",
    "print(y)\n",
    "print(x)"
   ]
  },
  {
   "cell_type": "code",
   "execution_count": 7,
   "metadata": {},
   "outputs": [
    {
     "data": {
      "text/plain": [
       "'123'"
      ]
     },
     "execution_count": 7,
     "metadata": {},
     "output_type": "execute_result"
    }
   ],
   "source": [
    "x"
   ]
  },
  {
   "cell_type": "code",
   "execution_count": 8,
   "metadata": {},
   "outputs": [
    {
     "data": {
      "text/plain": [
       "123"
      ]
     },
     "execution_count": 8,
     "metadata": {},
     "output_type": "execute_result"
    }
   ],
   "source": [
    "y"
   ]
  },
  {
   "cell_type": "markdown",
   "metadata": {},
   "source": [
    "\n",
    "---"
   ]
  },
  {
   "cell_type": "markdown",
   "metadata": {},
   "source": [
    "# P1-16 IDE (開發工具箱)\n",
    ">## IDLE (Python 提供的)\n",
    ">## VS code\n",
    ">## Jupyter notebook (網站架構<HTML>)"
   ]
  },
  {
   "cell_type": "markdown",
   "metadata": {},
   "source": [
    "# VScode\n",
    "## 安裝\n",
    ">### 由於VS Code不知道Python的安裝路徑，所以當開啟任一個.py檔案時，VS Code會提示你進行設定。此時我們只要按照下圖的步驟，去設定Python.exe的路徑即可。\n",
    ">### 1. 安裝Python extension\n",
    "<img src='./img/vscode_py_ext.png'  style='height:500px;'><br>\n",
    ">### 2. 設定Python.exe的路徑\n",
    "<img src='./img/vscode_set_py.png'  style='height:500px;'><br>"
   ]
  },
  {
   "cell_type": "markdown",
   "metadata": {},
   "source": [
    "# Jupyter notebook\n",
    "\n",
    "## 安裝\n",
    ">### 1.  Ipython 就是 Jupyter Python 的 Kernal (ipython : 互動式)\n",
    ">### 2.  在 (命令提示字元 系統管理員)身分下 pip install jupyter notebook (灌程式)\n",
    ">### 3.  在 (命令提示字元 一般身分)下打 jupyter notebook (執行程式)( :>jupyter notebook)\n",
    "## Jupyter notebook 介紹\n",
    ">###  - Jupyter notebook 是一個互動式筆記本，本質是一個Web 應用程式，主頁面由許多Cell組成\n",
    ">>### - Cell &rArr; 每一個Cell都是可以執行的區塊，裡面可以輸入程式碼，Cell又分為兩種模式\n",
    ">>>#### - 命令模式(Cell外框以藍色顯示)\n",
    ">>>#### - 編輯模式(Cell外框以綠色顯示，且會有游標閃動)\n",
    ">>### - 快捷鍵 : Help &rarr; Keybosrd ShortCuts\n",
    ">>>#### <img src='./img/hotkey_commend.png' style='height:500px'><img src='./img/hotkey_edit.png' style='height:300px'>\n",
    "## Jupyter notebook 常用功能\n",
    ">### - auto compelete &rArr; Tab\n",
    ">### - shift + Tab &rArr; 快速查詢函式、方法的用法\n",
    ">### - short cut : Help &rArr; Keyboard shortcuts\n",
    ">### - ?指令 &rArr; 查看說明文件\n",
    ">### - % &rArr; jupyter的魔法函式\n",
    ">### - ! + cli 指令 &rArr; 執行作業系統命令"
   ]
  },
  {
   "cell_type": "code",
   "execution_count": 1,
   "metadata": {},
   "outputs": [],
   "source": [
    "print?"
   ]
  },
  {
   "cell_type": "code",
   "execution_count": 1,
   "metadata": {},
   "outputs": [],
   "source": [
    "%timeit "
   ]
  },
  {
   "cell_type": "code",
   "execution_count": 3,
   "metadata": {},
   "outputs": [
    {
     "name": "stdout",
     "output_type": "stream",
     "text": [
      " 磁碟區 D 中的磁碟是 Data\n",
      " 磁碟區序號:  A057-3354\n",
      "\n",
      " D:\\course_materials\\python_basic\\Tsao\\pyhton_basic_example\\2E_example 的目錄\n",
      "\n",
      "2020/05/04  下午 10:32    <DIR>          .\n",
      "2020/05/04  下午 10:32    <DIR>          ..\n",
      "2020/05/04  下午 10:20    <DIR>          .ipynb_checkpoints\n",
      "2020/05/04  上午 12:35    <DIR>          img\n",
      "2020/04/22  上午 04:01    <DIR>          installation\n",
      "2020/05/04  下午 10:20             1,173 mod00.ipynb\n",
      "2020/04/22  上午 04:01    <DIR>          mod01\n",
      "2020/04/22  上午 04:01    <DIR>          mod07\n",
      "2020/04/22  上午 04:01    <DIR>          mod08\n",
      "2020/04/22  上午 04:01    <DIR>          mod13\n",
      "2020/04/22  上午 04:01    <DIR>          mod14\n",
      "2020/04/22  上午 04:01    <DIR>          mod15\n",
      "2020/04/22  上午 04:01    <DIR>          mod16\n",
      "2020/04/22  上午 04:01    <DIR>          mod17\n",
      "2020/04/22  上午 04:01    <DIR>          mod18\n",
      "2020/04/19  上午 02:56           419,142 PythonSteveDay1.html\n",
      "2020/05/04  上午 02:28            40,230 PythonSteveDay1.ipynb\n",
      "2020/04/19  上午 02:56           449,297 PythonSteveDay2.html\n",
      "2020/04/21  下午 02:22            44,577 PythonSteveDay2.ipynb\n",
      "2020/04/19  上午 02:57           347,653 PythonSteveDay3.html\n",
      "2020/04/22  上午 07:05            23,548 PythonSteveDay3.ipynb\n",
      "2020/04/21  下午 06:14             7,022 Untitled.ipynb\n",
      "2020/05/04  下午 10:32             6,176 Untitled1.ipynb\n",
      "               9 個檔案       1,338,818 位元組\n",
      "              14 個目錄  844,523,700,224 位元組可用\n"
     ]
    }
   ],
   "source": [
    "!dir"
   ]
  }
 ],
 "metadata": {
  "kernelspec": {
   "display_name": "Python 3",
   "language": "python",
   "name": "python3"
  },
  "language_info": {
   "codemirror_mode": {
    "name": "ipython",
    "version": 3
   },
   "file_extension": ".py",
   "mimetype": "text/x-python",
   "name": "python",
   "nbconvert_exporter": "python",
   "pygments_lexer": "ipython3",
   "version": "3.6.4"
  }
 },
 "nbformat": 4,
 "nbformat_minor": 2
}
