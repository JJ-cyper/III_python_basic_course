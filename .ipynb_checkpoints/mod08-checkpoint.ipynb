{
 "cells": [
  {
   "cell_type": "markdown",
   "metadata": {},
   "source": [
    "#  <font color=red> Module_08_程式的流程控制-迴圈</font>"
   ]
  },
  {
   "cell_type": "markdown",
   "metadata": {},
   "source": [
    "# P8-4"
   ]
  },
  {
   "cell_type": "code",
   "execution_count": 10,
   "metadata": {},
   "outputs": [
    {
     "name": "stdout",
     "output_type": "stream",
     "text": [
      "count is: 0\n",
      "count is: 1\n",
      "count is: 2\n",
      "count is: 3\n",
      "count is: 4\n",
      "count is: 5\n",
      "count is: 6\n",
      "count is: 7\n",
      "count is: 8\n",
      "Finished!\n"
     ]
    }
   ],
   "source": [
    "count = 0\n",
    "while count < 9:\n",
    "    print('count is:', count)\n",
    "    count += 1\n",
    "print('Finished!')"
   ]
  },
  {
   "cell_type": "code",
   "execution_count": null,
   "metadata": {},
   "outputs": [],
   "source": [
    "%run mod08/whilestmt1.py"
   ]
  },
  {
   "cell_type": "markdown",
   "metadata": {},
   "source": [
    "---"
   ]
  },
  {
   "cell_type": "markdown",
   "metadata": {},
   "source": [
    "# P8-8 \n",
    "### range(start, stop[, step])"
   ]
  },
  {
   "cell_type": "code",
   "execution_count": 5,
   "metadata": {},
   "outputs": [
    {
     "name": "stdout",
     "output_type": "stream",
     "text": [
      "range(0, 10)\n",
      "[0, 1, 2, 3, 4, 5, 6, 7, 8, 9]\n"
     ]
    }
   ],
   "source": [
    "print(range(10))\n",
    "print(list(range(10))) # lazy evaluation"
   ]
  },
  {
   "cell_type": "code",
   "execution_count": 7,
   "metadata": {},
   "outputs": [
    {
     "name": "stdout",
     "output_type": "stream",
     "text": [
      "[0, 1, 2, 3, 4, 5, 6, 7, 8, 9]\n",
      "[5, 6, 7, 8, 9]\n",
      "[2, 4, 6, 8]\n"
     ]
    }
   ],
   "source": [
    "print(list(range(10)))\n",
    "print(list(range(5,10)))\n",
    "print(list(range(2,10,2)))"
   ]
  },
  {
   "cell_type": "markdown",
   "metadata": {},
   "source": [
    "---"
   ]
  },
  {
   "cell_type": "markdown",
   "metadata": {},
   "source": [
    "# P8-5\n",
    "## 常見 迭代(iterable) 物件\n",
    ">### string\n",
    ">### List\n",
    ">### Tuple\n",
    ">### Dictionary\n",
    ">### Set\n",
    ">### range()\n",
    ">### enumerate()"
   ]
  },
  {
   "cell_type": "code",
   "execution_count": 15,
   "metadata": {},
   "outputs": [
    {
     "name": "stdout",
     "output_type": "stream",
     "text": [
      "1\n",
      "2\n",
      "3\n",
      "4\n",
      "5\n"
     ]
    }
   ],
   "source": [
    "for var in [1, 2, 3, 4, 5]:\n",
    "    print(var)"
   ]
  },
  {
   "cell_type": "code",
   "execution_count": 35,
   "metadata": {},
   "outputs": [
    {
     "name": "stdout",
     "output_type": "stream",
     "text": [
      "Input a value: 8\n",
      "sum = 36\n"
     ]
    }
   ],
   "source": [
    "%run mod08/forstmt1.py"
   ]
  },
  {
   "cell_type": "code",
   "execution_count": 36,
   "metadata": {},
   "outputs": [
    {
     "name": "stdout",
     "output_type": "stream",
     "text": [
      "range(5) = 0 1 2 3 4 \n",
      "range(1,5) = 1 2 3 4 \n",
      "range(1,10,2) = 1 3 5 7 9 \n"
     ]
    }
   ],
   "source": [
    "%run mod08/forstmt2.py"
   ]
  },
  {
   "cell_type": "markdown",
   "metadata": {},
   "source": [
    "---"
   ]
  },
  {
   "cell_type": "markdown",
   "metadata": {},
   "source": [
    "# P8-7"
   ]
  },
  {
   "cell_type": "code",
   "execution_count": 16,
   "metadata": {},
   "outputs": [
    {
     "name": "stdout",
     "output_type": "stream",
     "text": [
      "1 2 3 4 5 6 7 8 9 \n",
      "2 4 6 8 10 12 14 16 18 \n",
      "3 6 9 12 15 18 21 24 27 \n",
      "4 8 12 16 20 24 28 32 36 \n",
      "5 10 15 20 25 30 35 40 45 \n",
      "6 12 18 24 30 36 42 48 54 \n",
      "7 14 21 28 35 42 49 56 63 \n",
      "8 16 24 32 40 48 56 64 72 \n",
      "9 18 27 36 45 54 63 72 81 \n"
     ]
    }
   ],
   "source": [
    "for i in range(1,10):\n",
    "    for j in range(1,10):\n",
    "        x = i * j\n",
    "        print(x, end=' ')\n",
    "    print()"
   ]
  },
  {
   "cell_type": "code",
   "execution_count": 17,
   "metadata": {},
   "outputs": [
    {
     "name": "stdout",
     "output_type": "stream",
     "text": [
      "1 * 1 =  1,   1 * 2 =  2,   1 * 3 =  3,   1 * 4 =  4,   1 * 5 =  5,   1 * 6 =  6,   1 * 7 =  7,   1 * 8 =  8,   1 * 9 =  9,   \n",
      "2 * 1 =  2,   2 * 2 =  4,   2 * 3 =  6,   2 * 4 =  8,   2 * 5 = 10,   2 * 6 = 12,   2 * 7 = 14,   2 * 8 = 16,   2 * 9 = 18,   \n",
      "3 * 1 =  3,   3 * 2 =  6,   3 * 3 =  9,   3 * 4 = 12,   3 * 5 = 15,   3 * 6 = 18,   3 * 7 = 21,   3 * 8 = 24,   3 * 9 = 27,   \n",
      "4 * 1 =  4,   4 * 2 =  8,   4 * 3 = 12,   4 * 4 = 16,   4 * 5 = 20,   4 * 6 = 24,   4 * 7 = 28,   4 * 8 = 32,   4 * 9 = 36,   \n",
      "5 * 1 =  5,   5 * 2 = 10,   5 * 3 = 15,   5 * 4 = 20,   5 * 5 = 25,   5 * 6 = 30,   5 * 7 = 35,   5 * 8 = 40,   5 * 9 = 45,   \n",
      "6 * 1 =  6,   6 * 2 = 12,   6 * 3 = 18,   6 * 4 = 24,   6 * 5 = 30,   6 * 6 = 36,   6 * 7 = 42,   6 * 8 = 48,   6 * 9 = 54,   \n",
      "7 * 1 =  7,   7 * 2 = 14,   7 * 3 = 21,   7 * 4 = 28,   7 * 5 = 35,   7 * 6 = 42,   7 * 7 = 49,   7 * 8 = 56,   7 * 9 = 63,   \n",
      "8 * 1 =  8,   8 * 2 = 16,   8 * 3 = 24,   8 * 4 = 32,   8 * 5 = 40,   8 * 6 = 48,   8 * 7 = 56,   8 * 8 = 64,   8 * 9 = 72,   \n",
      "9 * 1 =  9,   9 * 2 = 18,   9 * 3 = 27,   9 * 4 = 36,   9 * 5 = 45,   9 * 6 = 54,   9 * 7 = 63,   9 * 8 = 72,   9 * 9 = 81,   \n"
     ]
    }
   ],
   "source": [
    "for i in range(1,10):\n",
    "    for j in range(1,10):\n",
    "        print(f'{i:1} * {j:1} = {i*j:2}', end=',   ')\n",
    "\n",
    "    print('')"
   ]
  },
  {
   "cell_type": "markdown",
   "metadata": {},
   "source": [
    "---"
   ]
  },
  {
   "cell_type": "markdown",
   "metadata": {},
   "source": [
    "# P8-12"
   ]
  },
  {
   "cell_type": "code",
   "execution_count": 34,
   "metadata": {},
   "outputs": [
    {
     "name": "stdout",
     "output_type": "stream",
     "text": [
      "1\n",
      "2\n",
      "3\n",
      "4\n",
      "5\n"
     ]
    }
   ],
   "source": [
    "%run mod08/whilestmt2.py"
   ]
  },
  {
   "cell_type": "code",
   "execution_count": 38,
   "metadata": {},
   "outputs": [
    {
     "name": "stdout",
     "output_type": "stream",
     "text": [
      "2 4 6 \n"
     ]
    }
   ],
   "source": [
    "%run mod08/continuestmt.py"
   ]
  },
  {
   "cell_type": "code",
   "execution_count": 3,
   "metadata": {},
   "outputs": [
    {
     "name": "stdout",
     "output_type": "stream",
     "text": [
      "2070\n"
     ]
    }
   ],
   "source": [
    "count = 1\n",
    "while True:\n",
    "    if count%9==0:\n",
    "        if count%10==0:\n",
    "            if count%23==0:\n",
    "                print(count)\n",
    "                break\n",
    "    count+=1"
   ]
  },
  {
   "cell_type": "code",
   "execution_count": 7,
   "metadata": {},
   "outputs": [
    {
     "name": "stdout",
     "output_type": "stream",
     "text": [
      "1 * 1 =  1,   1 * 2 =  2,   1 * 3 =  3,   1 * 4 =  4,   1 * 5 =  5,   1 * 6 =  6,   1 * 7 =  7,   1 * 8 =  8,   1 * 9 =  9,   \n",
      "2 * 1 =  2,   2 * 2 =  4,   2 * 3 =  6,   2 * 4 =  8,   2 * 5 = 10,   2 * 6 = 12,   2 * 7 = 14,   2 * 8 = 16,   2 * 9 = 18,   \n",
      "3 * 1 =  3,   3 * 2 =  6,   3 * 3 =  9,   3 * 4 = 12,   \n",
      "4 * 1 =  4,   4 * 2 =  8,   4 * 3 = 12,   4 * 4 = 16,   4 * 5 = 20,   4 * 6 = 24,   4 * 8 = 32,   4 * 9 = 36,   \n",
      "5 * 1 =  5,   5 * 2 = 10,   \n",
      "6 * 1 =  6,   6 * 2 = 12,   6 * 3 = 18,   6 * 4 = 24,   6 * 5 = 30,   6 * 6 = 36,   6 * 7 = 42,   6 * 8 = 48,   6 * 9 = 54,   \n",
      "7 * 1 =  7,   7 * 2 = 14,   7 * 3 = 21,   7 * 5 = 35,   7 * 6 = 42,   7 * 7 = 49,   7 * 8 = 56,   7 * 9 = 63,   \n",
      "8 * 1 =  8,   8 * 2 = 16,   8 * 3 = 24,   8 * 4 = 32,   8 * 5 = 40,   8 * 6 = 48,   8 * 7 = 56,   8 * 8 = 64,   8 * 9 = 72,   \n",
      "9 * 1 =  9,   9 * 2 = 18,   9 * 3 = 27,   9 * 4 = 36,   9 * 5 = 45,   9 * 6 = 54,   9 * 7 = 63,   9 * 8 = 72,   9 * 9 = 81,   \n"
     ]
    }
   ],
   "source": [
    "for i in range(1,10):\n",
    "    for j in range(1,10):\n",
    "        if i*j==15:\n",
    "            break\n",
    "        elif i*j==28:\n",
    "            continue\n",
    "        print(f'{i:1} * {j:1} = {i*j:2}', end=',   ')\n",
    "    print('')"
   ]
  },
  {
   "cell_type": "markdown",
   "metadata": {},
   "source": [
    "---"
   ]
  },
  {
   "cell_type": "markdown",
   "metadata": {},
   "source": [
    "# P8-14"
   ]
  },
  {
   "cell_type": "code",
   "execution_count": 14,
   "metadata": {},
   "outputs": [
    {
     "name": "stdout",
     "output_type": "stream",
     "text": [
      "有 偶數存在 22\n"
     ]
    }
   ],
   "source": [
    "numbers = [31, 57, 75, 85, 27, 93, 63, 19, 22, 44]\n",
    "for num in numbers:\n",
    "    if num%2 == 0:\n",
    "        print('有 偶數存在', num)\n",
    "        break\n",
    "else:\n",
    "    print('無 偶數存在')"
   ]
  },
  {
   "cell_type": "code",
   "execution_count": 45,
   "metadata": {},
   "outputs": [
    {
     "name": "stdout",
     "output_type": "stream",
     "text": [
      "2 3 5 7 11 13 17 19 23 29 31 37 41 43 47 53 59 61 67 71 73 79 83 89 97 "
     ]
    }
   ],
   "source": [
    "for i in range(2,100):\n",
    "    for j in range(2,i):\n",
    "        if i%j==0:\n",
    "            break\n",
    "    else:               \n",
    "        print(i,end=' ')"
   ]
  },
  {
   "cell_type": "markdown",
   "metadata": {},
   "source": [
    "### 透過使用 else 可以節省一些 flag 的使用。"
   ]
  },
  {
   "cell_type": "code",
   "execution_count": 42,
   "metadata": {},
   "outputs": [
    {
     "name": "stdout",
     "output_type": "stream",
     "text": [
      "There is a number bigger than 100\n"
     ]
    }
   ],
   "source": [
    "nums = [60, 70, 30, 110, 90]\n",
    "found = False\n",
    "for n in nums:\n",
    "    if n > 100:\n",
    "        found = True\n",
    "        print(\"There is a number bigger than 100\")\n",
    "        break\n",
    "\n",
    "if not found:\n",
    "    print(\"Not found!\")"
   ]
  },
  {
   "cell_type": "code",
   "execution_count": 43,
   "metadata": {},
   "outputs": [
    {
     "name": "stdout",
     "output_type": "stream",
     "text": [
      "There is a number bigger than 100\n"
     ]
    }
   ],
   "source": [
    "nums = [60, 70, 30, 110, 90]\n",
    "for n in nums:\n",
    "    if n > 100:\n",
    "        print(\"There is a number bigger than 100\")\n",
    "        break\n",
    "else:\n",
    "    print(\"Not found!\")"
   ]
  }
 ],
 "metadata": {
  "kernelspec": {
   "display_name": "Python 3",
   "language": "python",
   "name": "python3"
  },
  "language_info": {
   "codemirror_mode": {
    "name": "ipython",
    "version": 3
   },
   "file_extension": ".py",
   "mimetype": "text/x-python",
   "name": "python",
   "nbconvert_exporter": "python",
   "pygments_lexer": "ipython3",
   "version": "3.8.2"
  }
 },
 "nbformat": 4,
 "nbformat_minor": 2
}
