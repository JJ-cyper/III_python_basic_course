{
 "cells": [
  {
   "cell_type": "markdown",
   "metadata": {},
   "source": [
    "#  <font color=red> Module_18_檔案讀寫與組織管理</font>"
   ]
  },
  {
   "cell_type": "markdown",
   "metadata": {},
   "source": [
    "# P18-8"
   ]
  },
  {
   "cell_type": "code",
   "execution_count": 1,
   "metadata": {},
   "outputs": [
    {
     "name": "stdout",
     "output_type": "stream",
     "text": [
      "Write two data to note.txt!\n"
     ]
    }
   ],
   "source": [
    "fp = open('./mod18/note.txt', 'w')\n",
    "fp.write('Python!!!!\\n')\n",
    "fp.write('iiiedu\\n')\n",
    "print('Write two data to note.txt!')\n",
    "fp.close()"
   ]
  },
  {
   "cell_type": "code",
   "execution_count": 2,
   "metadata": {},
   "outputs": [
    {
     "name": "stdout",
     "output_type": "stream",
     "text": [
      "Append one data to note.txt!\n"
     ]
    }
   ],
   "source": [
    "fp = open('./mod18/note.txt', 'a')\n",
    "fp.write('iii.org.tw\\n')\n",
    "print('Append one data to note.txt!')\n",
    "fp.close()"
   ]
  },
  {
   "cell_type": "markdown",
   "metadata": {},
   "source": [
    "---"
   ]
  },
  {
   "cell_type": "markdown",
   "metadata": {},
   "source": [
    "# P18-10"
   ]
  },
  {
   "cell_type": "code",
   "execution_count": 6,
   "metadata": {},
   "outputs": [
    {
     "name": "stdout",
     "output_type": "stream",
     "text": [
      "['Python!!!!\\n', 'iiiedu\\n', 'iii.org.tw\\n']\n"
     ]
    }
   ],
   "source": [
    "fp = open('./mod18/note.txt', 'r+')\n",
    "fp.write('ABCDEFG')\n",
    "print(list(fp))\n",
    "fp.close()"
   ]
  },
  {
   "cell_type": "code",
   "execution_count": 7,
   "metadata": {},
   "outputs": [
    {
     "name": "stdout",
     "output_type": "stream",
     "text": [
      "Content(no new line):\n",
      "Python!!!!\n",
      "iiiedu\n",
      "iii.org.tw\n",
      "ABCDEFG"
     ]
    }
   ],
   "source": [
    "# file read\n",
    "fp = open('./mod18/note.txt', 'r')   \n",
    "print('Content(no new line):')\n",
    "\n",
    "for line in fp:\n",
    "    print(line, end='')    \n",
    "fp.close()"
   ]
  },
  {
   "cell_type": "code",
   "execution_count": 9,
   "metadata": {},
   "outputs": [
    {
     "name": "stdout",
     "output_type": "stream",
     "text": [
      "Content(readline):\n",
      "Python!!!!\n",
      "iiiedu\n",
      "iii.org.tw\n",
      "ABCDEFG"
     ]
    }
   ],
   "source": [
    "fp = open('./mod18/note.txt', 'r')   \n",
    "print('Content(readline):')\n",
    "\n",
    "while True: \n",
    "    line=fp.readline() # yield 與 next()的概念，心有餘力的同學可以在自行搜索\n",
    "    if not line:\n",
    "        break\n",
    "    print(line, end='')    \n",
    "fp.close()"
   ]
  },
  {
   "cell_type": "markdown",
   "metadata": {},
   "source": [
    "---"
   ]
  },
  {
   "cell_type": "markdown",
   "metadata": {},
   "source": [
    "# P18-12"
   ]
  },
  {
   "cell_type": "code",
   "execution_count": 15,
   "metadata": {},
   "outputs": [
    {
     "name": "stdout",
     "output_type": "stream",
     "text": [
      "Content(no new line):\n",
      "Python!!!!\n",
      "iiiedu\n",
      "iii.org.tw\n",
      "ABCDEFG"
     ]
    }
   ],
   "source": [
    "# file read\n",
    "fname='./mod18/note.txt'\n",
    "\n",
    "with open(fname, 'r') as fp:\n",
    "    print('Content(no new line):')\n",
    "\n",
    "    for line in fp:\n",
    "        print(line, end='') "
   ]
  },
  {
   "cell_type": "code",
   "execution_count": null,
   "metadata": {},
   "outputs": [],
   "source": []
  }
 ],
 "metadata": {
  "kernelspec": {
   "display_name": "Python 3",
   "language": "python",
   "name": "python3"
  },
  "language_info": {
   "codemirror_mode": {
    "name": "ipython",
    "version": 3
   },
   "file_extension": ".py",
   "mimetype": "text/x-python",
   "name": "python",
   "nbconvert_exporter": "python",
   "pygments_lexer": "ipython3",
   "version": "3.8.2"
  }
 },
 "nbformat": 4,
 "nbformat_minor": 2
}
