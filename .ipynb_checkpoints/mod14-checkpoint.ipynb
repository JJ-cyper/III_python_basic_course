{
 "cells": [
  {
   "cell_type": "markdown",
   "metadata": {},
   "source": [
    "### p14-4 位置引數"
   ]
  },
  {
   "cell_type": "code",
   "execution_count": 6,
   "metadata": {},
   "outputs": [
    {
     "name": "stdout",
     "output_type": "stream",
     "text": [
      "x : 5\n",
      "y : 6\n"
     ]
    }
   ],
   "source": [
    "def my_function(x, y):\n",
    "    print(f'x : {x}')\n",
    "    print(f'y : {y}')\n",
    "\n",
    "my_function(5, 6) # 位置引數的接收順序一一對照參數的順序，必要的引數必須按照正確的順序傳給函數"
   ]
  },
  {
   "cell_type": "code",
   "execution_count": 7,
   "metadata": {},
   "outputs": [
    {
     "ename": "TypeError",
     "evalue": "my_function() missing 1 required positional argument: 'y'",
     "output_type": "error",
     "traceback": [
      "\u001b[1;31m---------------------------------------------------------------------------\u001b[0m",
      "\u001b[1;31mTypeError\u001b[0m                                 Traceback (most recent call last)",
      "\u001b[1;32m<ipython-input-7-e0970fdd1b07>\u001b[0m in \u001b[0;36m<module>\u001b[1;34m\u001b[0m\n\u001b[1;32m----> 1\u001b[1;33m \u001b[0mmy_function\u001b[0m\u001b[1;33m(\u001b[0m\u001b[1;36m5\u001b[0m\u001b[1;33m)\u001b[0m \u001b[1;31m# 位置引數的數量與函式的參數數量不一致\u001b[0m\u001b[1;33m\u001b[0m\u001b[0m\n\u001b[0m",
      "\u001b[1;31mTypeError\u001b[0m: my_function() missing 1 required positional argument: 'y'"
     ]
    }
   ],
   "source": [
    "my_function(5) # 位置引數的數量與函式的參數數量不一致"
   ]
  },
  {
   "cell_type": "code",
   "execution_count": 2,
   "metadata": {},
   "outputs": [
    {
     "name": "stdout",
     "output_type": "stream",
     "text": [
      "Area = 120\n"
     ]
    }
   ],
   "source": [
    "%run mod14/require_arg.py"
   ]
  },
  {
   "cell_type": "markdown",
   "metadata": {},
   "source": [
    "---"
   ]
  },
  {
   "cell_type": "markdown",
   "metadata": {},
   "source": [
    "### P14-6"
   ]
  },
  {
   "cell_type": "code",
   "execution_count": null,
   "metadata": {},
   "outputs": [],
   "source": [
    "# 關鍵字引數\n",
    "# Function definition\n",
    "def printinfo(dbname, port):\n",
    "    print('DB Name:', dbname)\n",
    "    print('Port:', port)\n",
    "\n",
    "# Call function\n",
    "printinfo('MSSQL', 1433)    # required arguments\n",
    "printinfo(port=3306, dbname='MySQL') # key-word arguments ,可以不需依照順序傳引數，而是使用引數名稱(port、dbname)來傳遞引數值"
   ]
  },
  {
   "cell_type": "code",
   "execution_count": 3,
   "metadata": {},
   "outputs": [
    {
     "name": "stdout",
     "output_type": "stream",
     "text": [
      "Name: Harris\n",
      "Age 40\n",
      "Name: Mary\n",
      "Age 20\n"
     ]
    }
   ],
   "source": [
    "%run mod14/keyword_arg.py"
   ]
  },
  {
   "cell_type": "code",
   "execution_count": null,
   "metadata": {},
   "outputs": [],
   "source": [
    "print('ABC',end=' ') # 'ABC'就是位置引數，end就是關鍵字引數 "
   ]
  },
  {
   "cell_type": "markdown",
   "metadata": {},
   "source": [
    "---"
   ]
  },
  {
   "cell_type": "markdown",
   "metadata": {},
   "source": [
    "### p14-9 預設引數"
   ]
  },
  {
   "cell_type": "code",
   "execution_count": 8,
   "metadata": {},
   "outputs": [
    {
     "name": "stdout",
     "output_type": "stream",
     "text": [
      "Table Name: person\n",
      "DB Name: MySQL\n",
      "Port: 3306\n",
      "Table Name: person\n",
      "DB Name: MySQL\n",
      "Port: 3306\n"
     ]
    }
   ],
   "source": [
    "# Function definition\n",
    "def printinfo(tblname, dbname='MySQL', port=3306):\n",
    "    print('Table Name:', tblname)\n",
    "    print('DB Name:', dbname)\n",
    "    print('Port:', port)\n",
    "\n",
    "printinfo('person')                            # 1 positional argument, the other two have default values\n",
    "printinfo(tblname='person')                    # 1 keyword argument, the other two have default values"
   ]
  },
  {
   "cell_type": "code",
   "execution_count": 9,
   "metadata": {},
   "outputs": [
    {
     "name": "stdout",
     "output_type": "stream",
     "text": [
      "Table Name: products\n",
      "DB Name: MySQL\n",
      "Port: 3330\n"
     ]
    }
   ],
   "source": [
    "printinfo(port=3330, tblname='products')    # 2 keyword arguments, the other one has default value"
   ]
  },
  {
   "cell_type": "code",
   "execution_count": null,
   "metadata": {},
   "outputs": [],
   "source": [
    "printinfo('person', 'MSSQL', 1433)      # 3 positional arguments"
   ]
  }
 ],
 "metadata": {
  "kernelspec": {
   "display_name": "Python 3",
   "language": "python",
   "name": "python3"
  },
  "language_info": {
   "codemirror_mode": {
    "name": "ipython",
    "version": 3
   },
   "file_extension": ".py",
   "mimetype": "text/x-python",
   "name": "python",
   "nbconvert_exporter": "python",
   "pygments_lexer": "ipython3",
   "version": "3.6.4"
  }
 },
 "nbformat": 4,
 "nbformat_minor": 2
}
