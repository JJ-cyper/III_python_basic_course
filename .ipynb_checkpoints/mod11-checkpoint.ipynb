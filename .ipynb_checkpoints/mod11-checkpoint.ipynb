{
 "cells": [
  {
   "cell_type": "markdown",
   "metadata": {},
   "source": [
    "# Module_11_Dictionary"
   ]
  },
  {
   "cell_type": "markdown",
   "metadata": {},
   "source": [
    "# P11-3\n",
    "## Dictionary &rArr; 無序(Non-sequence)、可變(mutable)\n",
    ">### P3-3<img src='./img/py_data_type.png'>\n",
    "## 利用Key取得想要的資料\n",
    "><img src='./img/key_value_pair.png'>"
   ]
  },
  {
   "cell_type": "code",
   "execution_count": 11,
   "metadata": {},
   "outputs": [
    {
     "data": {
      "text/plain": [
       "{'Apple': '蘋果', 'Banana': '香蕉'}"
      ]
     },
     "execution_count": 11,
     "metadata": {},
     "output_type": "execute_result"
    }
   ],
   "source": [
    "d1={'Apple':'蘋果', 'Banana':'香蕉'}\n",
    "d1"
   ]
  },
  {
   "cell_type": "markdown",
   "metadata": {},
   "source": [
    "### 字典內的 values 可以是任意的資料型態，但 keys 必須是不可變的(immutable) 資料型態"
   ]
  },
  {
   "cell_type": "code",
   "execution_count": 2,
   "metadata": {},
   "outputs": [
    {
     "name": "stdout",
     "output_type": "stream",
     "text": [
      "dict1 : {'A': 'a', 'B': [1, 2, 3], 'C': (1, 2, 3), 'D': {'AA': 'aa', 'BB': 'bb'}}\n",
      "dict2 : {1: 'a', 2: 'b'}\n",
      "dict3 : {(0, 1): 'a', (0, 2): 'b'}\n"
     ]
    }
   ],
   "source": [
    "dict1 = {'A':\"a\", 'B':[1,2,3], 'C':(1,2,3), 'D':{'AA':'aa', 'BB':'bb'}}\n",
    "dict2 = {1:\"a\", 2:'b'}\n",
    "dict3 = {(0,1):'a', (0,2):'b'}\n",
    "print('dict1 :', dict1)\n",
    "print('dict2 :', dict2)\n",
    "print('dict3 :', dict3)"
   ]
  },
  {
   "cell_type": "markdown",
   "metadata": {},
   "source": [
    "### 字典是無序的"
   ]
  },
  {
   "cell_type": "code",
   "execution_count": 17,
   "metadata": {},
   "outputs": [
    {
     "name": "stdout",
     "output_type": "stream",
     "text": [
      "True\n",
      "False\n",
      "2730163929160\n",
      "2730163798088\n"
     ]
    }
   ],
   "source": [
    "d1={'name':'John', 'age':30}\n",
    "d2={'age':30, 'name':'John'}\n",
    "\n",
    "print(d1==d2) # 字典是無序的\n",
    "print(d1 is d2) # 記憶體位址不同\n",
    "print(id(d1))\n",
    "print(id(d2))"
   ]
  },
  {
   "cell_type": "code",
   "execution_count": 1,
   "metadata": {},
   "outputs": [
    {
     "ename": "TypeError",
     "evalue": "unhashable type: 'slice'",
     "output_type": "error",
     "traceback": [
      "\u001b[1;31m---------------------------------------------------------------------------\u001b[0m",
      "\u001b[1;31mTypeError\u001b[0m                                 Traceback (most recent call last)",
      "\u001b[1;32m<ipython-input-1-dbde776e0c4d>\u001b[0m in \u001b[0;36m<module>\u001b[1;34m\u001b[0m\n\u001b[0;32m      1\u001b[0m \u001b[0md3\u001b[0m\u001b[1;33m=\u001b[0m\u001b[1;33m{\u001b[0m\u001b[1;34m'A'\u001b[0m\u001b[1;33m:\u001b[0m\u001b[1;36m1\u001b[0m\u001b[1;33m,\u001b[0m \u001b[1;34m'B'\u001b[0m\u001b[1;33m:\u001b[0m\u001b[1;36m2\u001b[0m\u001b[1;33m,\u001b[0m \u001b[1;34m'C'\u001b[0m\u001b[1;33m:\u001b[0m\u001b[1;36m3\u001b[0m\u001b[1;33m,\u001b[0m \u001b[1;34m'D'\u001b[0m\u001b[1;33m:\u001b[0m\u001b[1;36m4\u001b[0m\u001b[1;33m,\u001b[0m \u001b[1;34m'E'\u001b[0m\u001b[1;33m:\u001b[0m\u001b[1;36m5\u001b[0m\u001b[1;33m}\u001b[0m\u001b[1;33m\u001b[0m\u001b[0m\n\u001b[1;32m----> 2\u001b[1;33m \u001b[0md3\u001b[0m\u001b[1;33m[\u001b[0m\u001b[1;33m:\u001b[0m\u001b[1;36m3\u001b[0m\u001b[1;33m]\u001b[0m\u001b[1;33m\u001b[0m\u001b[0m\n\u001b[0m",
      "\u001b[1;31mTypeError\u001b[0m: unhashable type: 'slice'"
     ]
    }
   ],
   "source": [
    "d3={'A':1, 'B':2, 'C':3, 'D':4, 'E':5}\n",
    "d3[:3]"
   ]
  },
  {
   "cell_type": "markdown",
   "metadata": {},
   "source": [
    "---"
   ]
  },
  {
   "cell_type": "markdown",
   "metadata": {},
   "source": [
    "# P11-4"
   ]
  },
  {
   "cell_type": "code",
   "execution_count": 30,
   "metadata": {},
   "outputs": [
    {
     "name": "stdout",
     "output_type": "stream",
     "text": [
      "蘋果\n",
      "香蕉\n"
     ]
    },
    {
     "ename": "KeyError",
     "evalue": "'Cat'",
     "output_type": "error",
     "traceback": [
      "\u001b[1;31m---------------------------------------------------------------------------\u001b[0m",
      "\u001b[1;31mKeyError\u001b[0m                                  Traceback (most recent call last)",
      "\u001b[1;32m<ipython-input-30-af652b0594bd>\u001b[0m in \u001b[0;36m<module>\u001b[1;34m\u001b[0m\n\u001b[0;32m      2\u001b[0m \u001b[0mprint\u001b[0m\u001b[1;33m(\u001b[0m\u001b[0md1\u001b[0m\u001b[1;33m[\u001b[0m\u001b[1;34m'Apple'\u001b[0m\u001b[1;33m]\u001b[0m\u001b[1;33m)\u001b[0m\u001b[1;33m\u001b[0m\u001b[0m\n\u001b[0;32m      3\u001b[0m \u001b[0mprint\u001b[0m\u001b[1;33m(\u001b[0m\u001b[0md1\u001b[0m\u001b[1;33m[\u001b[0m\u001b[1;34m'Banana'\u001b[0m\u001b[1;33m]\u001b[0m\u001b[1;33m)\u001b[0m\u001b[1;33m\u001b[0m\u001b[0m\n\u001b[1;32m----> 4\u001b[1;33m \u001b[0mprint\u001b[0m\u001b[1;33m(\u001b[0m\u001b[0md1\u001b[0m\u001b[1;33m[\u001b[0m\u001b[1;34m'Cat'\u001b[0m\u001b[1;33m]\u001b[0m\u001b[1;33m)\u001b[0m \u001b[1;31m# 沒有'Cat'這個 Key => 引發KeyError\u001b[0m\u001b[1;33m\u001b[0m\u001b[0m\n\u001b[0m",
      "\u001b[1;31mKeyError\u001b[0m: 'Cat'"
     ]
    }
   ],
   "source": [
    "d1={'Apple':'蘋果', 'Banana':'香蕉'}\n",
    "print(d1['Apple'])\n",
    "print(d1['Banana'])\n",
    "print(d1['Cat']) # 沒有'Cat'這個 Key => 引發KeyError"
   ]
  },
  {
   "cell_type": "markdown",
   "metadata": {},
   "source": [
    "### P11-3 keys 必須唯㇐，但 values 可以相同"
   ]
  },
  {
   "cell_type": "code",
   "execution_count": 32,
   "metadata": {},
   "outputs": [
    {
     "name": "stdout",
     "output_type": "stream",
     "text": [
      "d1['A'] :  1\n",
      "d2['A'] :  1\n",
      "d2['B'] :  1\n"
     ]
    }
   ],
   "source": [
    "d1={'A':'a', 'B':'b', 'A':1}\n",
    "print(\"d1['A'] : \", d1['A']) # Key 重複的話，無法取出'a'，只能取出1\n",
    "d2={'A':1, 'B':1}\n",
    "print(\"d2['A'] : \", d2['A']) # Key 'A' 與 Key 'B'的values都是1\n",
    "print(\"d2['B'] : \", d2['B'])"
   ]
  },
  {
   "cell_type": "markdown",
   "metadata": {},
   "source": [
    "### P11-3 Key 盡可能不要用數值格式。請用字串(String)作為Keys，這樣後續比較容易整合其他Lib。"
   ]
  },
  {
   "cell_type": "code",
   "execution_count": 33,
   "metadata": {},
   "outputs": [
    {
     "data": {
      "text/plain": [
       "'Python'"
      ]
     },
     "execution_count": 33,
     "metadata": {},
     "output_type": "execute_result"
    }
   ],
   "source": [
    "dt = {1:'Python', 2:'Java', 3:'C'}\n",
    "dt[1] # dt[1] 的寫法會誤以為字典可以使用索引功能。"
   ]
  },
  {
   "cell_type": "markdown",
   "metadata": {},
   "source": [
    "---"
   ]
  },
  {
   "cell_type": "markdown",
   "metadata": {},
   "source": [
    "# P11-7"
   ]
  },
  {
   "cell_type": "code",
   "execution_count": 3,
   "metadata": {},
   "outputs": [
    {
     "name": "stdout",
     "output_type": "stream",
     "text": [
      "dict1['one'] :      1\n",
      "dict1['two'] = 7 :  {'one': 1, 'two': 7, 'three': 3}\n",
      "dict1['four'] = 7 : {'one': 1, 'two': 7, 'three': 3, 'four': 7}\n",
      "del dict1['two'] :  {'one': 1, 'three': 3, 'four': 7}\n"
     ]
    }
   ],
   "source": [
    "dict1 = {'one':1, 'two':2, \"three\":3}\n",
    "print(\"dict1['one'] :     \", dict1['one'])  # 取用\n",
    "\n",
    "dict1['two'] = 7 # 修改\n",
    "print(\"dict1['two'] = 7 : \", dict1)    \n",
    "\n",
    "dict1['four']=7 # 新增 \n",
    "print(\"dict1['four'] = 7 :\", dict1) \n",
    "\n",
    "del dict1['two'] # 刪除\n",
    "print(\"del dict1['two'] : \", dict1)"
   ]
  },
  {
   "cell_type": "code",
   "execution_count": 4,
   "metadata": {},
   "outputs": [
    {
     "name": "stdout",
     "output_type": "stream",
     "text": [
      "'two' in dict1 :  True\n",
      "3 in dict1 :      False\n"
     ]
    }
   ],
   "source": [
    "dict1 = {'one':1, 'two':2, \"three\":3}\n",
    "print(\"'two' in dict1 : \", 'two' in dict1)\n",
    "print(\"3 in dict1 :     \", 3 in dict1) # 成員運算子只會看Key值"
   ]
  },
  {
   "cell_type": "code",
   "execution_count": 4,
   "metadata": {},
   "outputs": [
    {
     "name": "stdout",
     "output_type": "stream",
     "text": [
      "del dict1['Class'] :  {'Name': 'III', 'Year': 1979}\n",
      "dict1.clear() :       {}\n"
     ]
    },
    {
     "ename": "NameError",
     "evalue": "name 'dict1' is not defined",
     "output_type": "error",
     "traceback": [
      "\u001b[1;31m---------------------------------------------------------------------------\u001b[0m",
      "\u001b[1;31mNameError\u001b[0m                                 Traceback (most recent call last)",
      "\u001b[1;32m<ipython-input-4-c8405554c707>\u001b[0m in \u001b[0;36m<module>\u001b[1;34m\u001b[0m\n\u001b[0;32m      8\u001b[0m \u001b[1;33m\u001b[0m\u001b[0m\n\u001b[0;32m      9\u001b[0m \u001b[1;32mdel\u001b[0m \u001b[0mdict1\u001b[0m      \u001b[1;31m# del dict1.  dict1 is gone\u001b[0m\u001b[1;33m\u001b[0m\u001b[0m\n\u001b[1;32m---> 10\u001b[1;33m \u001b[0mprint\u001b[0m\u001b[1;33m(\u001b[0m\u001b[1;34m'del dict1 :        '\u001b[0m\u001b[1;33m,\u001b[0m \u001b[0mdict1\u001b[0m\u001b[1;33m)\u001b[0m   \u001b[1;31m# error since no dict1 any more\u001b[0m\u001b[1;33m\u001b[0m\u001b[0m\n\u001b[0m",
      "\u001b[1;31mNameError\u001b[0m: name 'dict1' is not defined"
     ]
    }
   ],
   "source": [
    "dict1 = {'Name': 'III', 'Year': 1979, 'Class': 'A'}\n",
    "\n",
    "del dict1['Class']\n",
    "print(\"del dict1['Class'] : \", dict1)\n",
    "\n",
    "dict1.clear()   # empty dict1\n",
    "print('dict1.clear() :      ', dict1)\n",
    "\n",
    "del dict1      # del dict1.  dict1 is gone\n",
    "print('del dict1 :        ', dict1)   # error since there is no dict1"
   ]
  },
  {
   "cell_type": "markdown",
   "metadata": {},
   "source": [
    "---"
   ]
  },
  {
   "cell_type": "markdown",
   "metadata": {},
   "source": [
    "# P11-11"
   ]
  },
  {
   "cell_type": "code",
   "execution_count": 59,
   "metadata": {},
   "outputs": [
    {
     "name": "stdout",
     "output_type": "stream",
     "text": [
      "len(a) :      3\n",
      "max(a) :      nums\n",
      "min(a) :      num\n",
      "sorted(a) :   ['num', 'num1', 'nums']\n"
     ]
    }
   ],
   "source": [
    "a= {'num':77, 'num1': 85, 'nums': [1,2,3]} \n",
    "\n",
    "print('len(a) :     ', len(a)) # 計算Key的數量\n",
    "print('max(a) :     ', max(a)) # 找出最大的Key\n",
    "print('min(a) :     ', min(a)) # 找出最小的Key\n",
    "print('sorted(a) :  ', sorted(a)) # 根據Key排序"
   ]
  },
  {
   "cell_type": "code",
   "execution_count": 50,
   "metadata": {},
   "outputs": [
    {
     "name": "stdout",
     "output_type": "stream",
     "text": [
      "{'one': 1, 'two': 2, 'three': 3}\n",
      "{'one': 1, 'two': 2, 'three': [3, 'III', '三']}\n"
     ]
    }
   ],
   "source": [
    "dict1 = dict(one=1, two=2, three=3) # 以**kwarg的內容建立，先有個認識就好，後面會介紹\n",
    "dict2 = dict([('one', 1), ('two', 2), ('three', [3, 'III', '三'])]) # 以iterable 物件的內容建立\n",
    "print(dict1)\n",
    "print(dict2)"
   ]
  },
  {
   "cell_type": "markdown",
   "metadata": {},
   "source": [
    "---"
   ]
  },
  {
   "cell_type": "markdown",
   "metadata": {},
   "source": [
    "# P11-12"
   ]
  },
  {
   "cell_type": "code",
   "execution_count": 13,
   "metadata": {},
   "outputs": [
    {
     "name": "stdout",
     "output_type": "stream",
     "text": [
      "77\n",
      "77\n",
      "No item\n",
      "None\n"
     ]
    }
   ],
   "source": [
    "a= {'num':77, 'num1': 85, 'nums': [1,2,3]} # dict\n",
    "print(a.get('num')) # 取得 “key” 對應的值\n",
    "print(a['num'])\n",
    "print(a.get('aaaaaaaaa', 'No item')) # 如果 “key” 不存在則傳回 default 值\n",
    "print(a.get('aaaaaaaaa')) # 如果 “key” 不存在，也沒有設定default 值 =>回傳None"
   ]
  },
  {
   "cell_type": "code",
   "execution_count": 15,
   "metadata": {},
   "outputs": [
    {
     "name": "stdout",
     "output_type": "stream",
     "text": [
      "d1 =            {'a': 'apple', 'b': 'banana'}\n",
      "d2 =            {'a': 'apple', 'b': 'banana'}\n",
      "d1 is d2 :      False\n",
      "d1 == d2 :      True\n",
      "d3 :            {'a': 'apple', 'b': 'banana'}\n",
      "d3 is d1 :      True\n"
     ]
    }
   ],
   "source": [
    "d1 ={'a': 'apple', 'b':'banana'}\n",
    "print('d1 =           ', d1)\n",
    "\n",
    "d2 = d1.copy() # copy has diff memory address\n",
    "print('d2 =           ', d2)\n",
    "print('d1 is d2 :     ', d1 is d2)\n",
    "print('d1 == d2 :     ', d1 == d2)\n",
    "\n",
    "d3 = d1 # point to same address\n",
    "print('d3 :           ', d3)\n",
    "print('d3 is d1 :     ', d3 is d1)"
   ]
  },
  {
   "cell_type": "code",
   "execution_count": 17,
   "metadata": {},
   "outputs": [
    {
     "name": "stdout",
     "output_type": "stream",
     "text": [
      "77\n",
      "12345\n",
      "{'num': 77, 'num1': 85, 'nums': [1, 2, 3], 'aaaaaa': 12345}\n"
     ]
    }
   ],
   "source": [
    "a = {'num':77, 'num1': 85, 'nums': [1,2,3]}  \n",
    "\n",
    "print(a.setdefault('num', 12345)) # 如果 “key” 存在則取用該Key值對應的Value\n",
    "\n",
    "print(a.setdefault('aaaaaa', 12345)) # 如果 “key” 不存在則會產生㇐個新的 dict[key]=default的項目\n",
    "print(a)"
   ]
  },
  {
   "cell_type": "markdown",
   "metadata": {},
   "source": [
    "---"
   ]
  },
  {
   "cell_type": "markdown",
   "metadata": {},
   "source": [
    "# P11-13"
   ]
  },
  {
   "cell_type": "code",
   "execution_count": 23,
   "metadata": {},
   "outputs": [
    {
     "name": "stdout",
     "output_type": "stream",
     "text": [
      "dict_items([('star trek', 'John Doe'), ('Starwars', 'Jedi')])\n",
      "[('star trek', 'John Doe'), ('Starwars', 'Jedi')] \n",
      "\n",
      "dict_keys(['star trek', 'Starwars'])\n",
      "['star trek', 'Starwars'] \n",
      "\n",
      "dict_values(['John Doe', 'Jedi'])\n",
      "['John Doe', 'Jedi'] \n",
      "\n",
      "update(a) :   {'star trek': 'John Doe', 'Starwars': 'Jedi', 'age': [1966, 1977]}\n"
     ]
    }
   ],
   "source": [
    "dict1 = {'star trek':'John Doe','Starwars':'Jedi'}\n",
    "a = {'age':[1966,1977]}\n",
    "\n",
    "print((dict1.items())) # ㇐個 (key, value) tuple 配對的\n",
    "print(list(dict1.items()),'\\n') # 將dict_items轉成List\n",
    "\n",
    "print(dict1.keys()) # 得到dict_keys\n",
    "print(list(dict1.keys()),'\\n') # 將dict_keys轉成List\n",
    "\n",
    "print(dict1.values()) # 得到dict_values\n",
    "print(list(dict1.values()),'\\n') # 將dict_values轉成List\n",
    "\n",
    "dict1.update(a) # 將 other 字典加到 dict 內\n",
    "print('update(a) :  ', dict1)"
   ]
  },
  {
   "cell_type": "markdown",
   "metadata": {},
   "source": [
    "---"
   ]
  },
  {
   "cell_type": "markdown",
   "metadata": {},
   "source": [
    "# P11-14"
   ]
  },
  {
   "cell_type": "code",
   "execution_count": 33,
   "metadata": {},
   "outputs": [
    {
     "name": "stdout",
     "output_type": "stream",
     "text": [
      "2\n",
      "pop(\"B\") : {'A': 1, 'C': 3, 'E': 5}\n"
     ]
    }
   ],
   "source": [
    "dict1 = {'A':1,'B':2, 'C':3, 'E':5}\n",
    "\n",
    "print(dict1.pop('B'))\n",
    "print('pop(\"B\") :', dict1)"
   ]
  },
  {
   "cell_type": "code",
   "execution_count": 34,
   "metadata": {},
   "outputs": [
    {
     "name": "stdout",
     "output_type": "stream",
     "text": [
      "{'A': 1, 'C': 3, 'E': 5, 'D': 4}\n",
      "('D', 4)\n",
      "popitem() :   {'A': 1, 'C': 3, 'E': 5}\n"
     ]
    }
   ],
   "source": [
    "dict1['D'] = 4 # dict 無順序\n",
    "print(dict1)\n",
    "print(dict1.popitem())  # 後進先出\n",
    "print('popitem() :  ', dict1)"
   ]
  },
  {
   "cell_type": "markdown",
   "metadata": {},
   "source": [
    "---"
   ]
  },
  {
   "cell_type": "markdown",
   "metadata": {},
   "source": [
    "# P11-17"
   ]
  },
  {
   "cell_type": "code",
   "execution_count": 36,
   "metadata": {},
   "outputs": [
    {
     "data": {
      "text/plain": [
       "{'t': 5,\n",
       " 'h': 2,\n",
       " 'i': 3,\n",
       " 's': 3,\n",
       " ' ': 6,\n",
       " 'a': 3,\n",
       " 'l': 2,\n",
       " 'e': 3,\n",
       " 'r': 2,\n",
       " 'b': 1,\n",
       " 'o': 2,\n",
       " 'u': 1,\n",
       " 'P': 1,\n",
       " 'y': 1,\n",
       " 'n': 3,\n",
       " 'g': 1}"
      ]
     },
     "execution_count": 36,
     "metadata": {},
     "output_type": "execute_result"
    }
   ],
   "source": [
    "char_counts = {}\n",
    "word = 'this is a letters about Python learning'\n",
    "for char in tuple(word):\n",
    "    char_counts[char] = word.count(char)  # 沒有 key 就像後加，P10-12 tuple.count\n",
    "\n",
    "char_counts"
   ]
  },
  {
   "cell_type": "code",
   "execution_count": 5,
   "metadata": {},
   "outputs": [
    {
     "data": {
      "text/plain": [
       "{'t': 5,\n",
       " 'h': 2,\n",
       " 'i': 3,\n",
       " 's': 3,\n",
       " ' ': 6,\n",
       " 'a': 3,\n",
       " 'l': 2,\n",
       " 'e': 3,\n",
       " 'r': 2,\n",
       " 'b': 1,\n",
       " 'o': 2,\n",
       " 'u': 1,\n",
       " 'P': 1,\n",
       " 'y': 1,\n",
       " 'n': 3,\n",
       " 'g': 1}"
      ]
     },
     "execution_count": 5,
     "metadata": {},
     "output_type": "execute_result"
    }
   ],
   "source": [
    "word = 'this is a letters about Python learning'\n",
    "char_counts = {char : word.count(char) for char in tuple(word)}\n",
    "char_counts"
   ]
  },
  {
   "cell_type": "markdown",
   "metadata": {},
   "source": [
    "---"
   ]
  },
  {
   "cell_type": "markdown",
   "metadata": {},
   "source": [
    "# &spades; 補充 \n",
    "### 使用dict()，以Mapping 的形式建立 dictionary"
   ]
  },
  {
   "cell_type": "code",
   "execution_count": 11,
   "metadata": {},
   "outputs": [
    {
     "data": {
      "text/plain": [
       "[('one', 1), ('two', 2), ('three', 3)]"
      ]
     },
     "execution_count": 11,
     "metadata": {},
     "output_type": "execute_result"
    }
   ],
   "source": [
    "list(zip(['one', 'two', 'three'], [1, 2, 3]))"
   ]
  },
  {
   "cell_type": "code",
   "execution_count": 12,
   "metadata": {},
   "outputs": [
    {
     "data": {
      "text/plain": [
       "{'one': 1, 'two': 2, 'three': 3}"
      ]
     },
     "execution_count": 12,
     "metadata": {},
     "output_type": "execute_result"
    }
   ],
   "source": [
    "dic1 = dict(zip(['one', 'two', 'three'], [1, 2, 3]))\n",
    "dic1"
   ]
  }
 ],
 "metadata": {
  "kernelspec": {
   "display_name": "Python 3.6.4 64-bit",
   "language": "python",
   "name": "python36464bit2b98fc5829cc4a1488e02f4fb78a28bc"
  },
  "language_info": {
   "codemirror_mode": {
    "name": "ipython",
    "version": 3
   },
   "file_extension": ".py",
   "mimetype": "text/x-python",
   "name": "python",
   "nbconvert_exporter": "python",
   "pygments_lexer": "ipython3",
   "version": "3.6.4"
  }
 },
 "nbformat": 4,
 "nbformat_minor": 2
}
