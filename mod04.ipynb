{
 "cells": [
  {
   "cell_type": "markdown",
   "metadata": {},
   "source": [
    "#  <font color=red> Module_04_Python運算子</font>"
   ]
  },
  {
   "cell_type": "markdown",
   "metadata": {},
   "source": [
    "# P4-3"
   ]
  },
  {
   "cell_type": "code",
   "execution_count": 2,
   "metadata": {},
   "outputs": [
    {
     "name": "stdout",
     "output_type": "stream",
     "text": [
      "x == 2 :  True\n",
      "x != 2 :  False\n",
      "x < 5  :  True\n",
      "x > 2  :  False\n",
      "x <= 2 :  True\n",
      "x >= 2 :  True\n"
     ]
    }
   ],
   "source": [
    "x = 2\n",
    "print('x == 2 : ', x == 2) # 用逗號隔開要輸出的元素\n",
    "print('x != 2 : ', x != 2)\n",
    "print('x < 5  : ', x < 5)\n",
    "print('x > 2  : ', x > 2)\n",
    "print('x <= 2 : ', x <= 2)\n",
    "print('x >= 2 : ', x >= 2)"
   ]
  },
  {
   "cell_type": "markdown",
   "metadata": {},
   "source": [
    "---"
   ]
  },
  {
   "cell_type": "markdown",
   "metadata": {},
   "source": [
    "# P4-4\n",
    ">### `4 <= 6 > 7`  : 這種寫法只有在Python中適用，其他語言是不通用的"
   ]
  },
  {
   "cell_type": "code",
   "execution_count": 4,
   "metadata": {},
   "outputs": [
    {
     "name": "stdout",
     "output_type": "stream",
     "text": [
      "4 <= 6 > 7 :        False\n",
      "4 <= 6 and 6 > 7 :  False\n",
      "5 > 6 > 3 :         False\n",
      "8 > 6 > 3 :         True\n"
     ]
    }
   ],
   "source": [
    "print('4 <= 6 > 7 :       ', 4 <= 6 > 7)\n",
    "print('4 <= 6 and 6 > 7 : ', 4<= 6 and 6>7)  # 6 > 7 false\n",
    "print('5 > 6 > 3 :        ', 5 > 6 > 3)\n",
    "print('8 > 6 > 3 :        ', 8 > 6 > 3)"
   ]
  },
  {
   "cell_type": "markdown",
   "metadata": {},
   "source": [
    "---"
   ]
  },
  {
   "cell_type": "markdown",
   "metadata": {},
   "source": [
    "# P4-5 \n",
    "## 真值表 (Truth Table)\n",
    "><img src=\".\\img\\truth_value.png\"  style='height:400px;'>"
   ]
  },
  {
   "cell_type": "code",
   "execution_count": 5,
   "metadata": {},
   "outputs": [
    {
     "name": "stdout",
     "output_type": "stream",
     "text": [
      "not x :    False\n",
      "x and y :  False\n",
      "x or y :   True\n"
     ]
    }
   ],
   "source": [
    "x = True\n",
    "y = False  # or x = 1; y = 0\n",
    "print('not x :   ', not x)\n",
    "print('x and y : ', x and y)\n",
    "print('x or y :  ', x or y)"
   ]
  },
  {
   "cell_type": "markdown",
   "metadata": {},
   "source": [
    "---"
   ]
  },
  {
   "cell_type": "markdown",
   "metadata": {},
   "source": [
    "# P4-6"
   ]
  },
  {
   "cell_type": "markdown",
   "metadata": {},
   "source": [
    "### eg.核彈發射系統 &rArr; 所有高官要員直到最後一關的總統都要同意，才能發射"
   ]
  },
  {
   "cell_type": "code",
   "execution_count": 14,
   "metadata": {},
   "outputs": [
    {
     "name": "stdout",
     "output_type": "stream",
     "text": [
      "x and y : 6\n",
      "0 and y : 0\n",
      "x and y : 6\n"
     ]
    }
   ],
   "source": [
    "x = 5 \n",
    "y = 6\n",
    "print('True and y :', True and y) # 若 and左邊 為 Ture =>代表and運算的結果將由y(and右邊)決定!!\n",
    "                                # 如果y(and右邊)是False那and運算的結果就是False\n",
    "                                # 如果y(and右邊)是True那and運算的結果就是True\n",
    "\n",
    "print('False and y :', False and y) # 若 and左邊 為 False =>代表and運算的結果就是False，也不需要再另外運算y(and右邊)了\n",
    "print('x and y :', x and y) # 結論:and 運算的時候，當 and左邊 結果為True時才會評估 y(and右邊) 的值，且and運算的結果由y(and右邊)決定 \n",
    "                                                #當 and左邊 結果為False時,and運算的結果就是False"
   ]
  },
  {
   "cell_type": "markdown",
   "metadata": {},
   "source": [
    "### eg.FB社團加入系統 &rArr; 所有的社員中只要有一個同意，就能讓新會員加入"
   ]
  },
  {
   "cell_type": "code",
   "execution_count": 7,
   "metadata": {},
   "outputs": [
    {
     "name": "stdout",
     "output_type": "stream",
     "text": [
      "x or y  : 5\n",
      "1 or y  : 1\n",
      "0 or y  : 6 \n",
      "\n"
     ]
    }
   ],
   "source": [
    "print('x or y  :', x or y) # 若 or左邊 為 False =>代表or運算的結果將由y(or右邊)決定!!\n",
    "                                # 如果y(or右邊)是False那or運算的結果就是False\n",
    "                                # 如果y(or右邊)是True那or運算的結果就是True\n",
    "\n",
    "print('1 or y  :', 1 or y) # 若 or左邊 為 Ture =>代表or運算的結果就是True，也不需要再另外運算y(or右邊)了\n",
    "print('0 or y  :', 0 or y, '\\n') # 結論:or 運算的時候，當 or左邊 結果為False時才會評估 y(or右邊) 的值，且or運算的結果由y(or右邊)決定 \n",
    "                                                    # 當 or左邊 結果為True時,or運算的結果就是True "
   ]
  },
  {
   "cell_type": "code",
   "execution_count": 20,
   "metadata": {},
   "outputs": [
    {
     "name": "stdout",
     "output_type": "stream",
     "text": [
      "not x :    False\n",
      "not y :    False\n"
     ]
    }
   ],
   "source": [
    "print('not x :   ', not x)\n",
    "print('not y :   ', not y)"
   ]
  },
  {
   "cell_type": "code",
   "execution_count": 21,
   "metadata": {},
   "outputs": [
    {
     "name": "stdout",
     "output_type": "stream",
     "text": [
      "False 2\n"
     ]
    }
   ],
   "source": [
    "a=0\n",
    "b=1\n",
    "print(not a+b,(not a)+b) # “not” 運算子的優先順序較低\n",
    "                         # not a+b -> 相當於not(a+b) -> not(1) -> False\n",
    "                         # (not a)+b -> (1)+1 -> 2"
   ]
  },
  {
   "cell_type": "markdown",
   "metadata": {},
   "source": [
    "---"
   ]
  },
  {
   "cell_type": "markdown",
   "metadata": {},
   "source": [
    "# P4-9\n",
    "## `is` 與 `==` 的差別\n",
    ">### `is` &rArr; 判斷兩個物件的id是否相同\n",
    ">### `==` &rArr; 判斷兩個物件的value是否相同\n",
    "---\n",
    "## 下圖為下列程式碼說明圖:\n",
    "<img src='./img/is_equal.png' style='height:500px'>"
   ]
  },
  {
   "cell_type": "code",
   "execution_count": 1,
   "metadata": {},
   "outputs": [
    {
     "name": "stdout",
     "output_type": "stream",
     "text": [
      "li2 id:     2379530822152\n",
      "li1 id:     2379530822408\n",
      "li2 == li1: True\n",
      "li2 is li1: False\n"
     ]
    }
   ],
   "source": [
    "li1 = [1,2]\n",
    "li2 = li1.copy()\n",
    "print('li2 id:    ', id(li2))\n",
    "print('li1 id:    ', id(li1))\n",
    "print('li2 == li1:', li2==li1)\n",
    "print('li2 is li1:', li2 is li1)"
   ]
  },
  {
   "cell_type": "markdown",
   "metadata": {},
   "source": [
    "---"
   ]
  },
  {
   "cell_type": "markdown",
   "metadata": {},
   "source": [
    "# P4-11\n",
    "## 二進位說明\n",
    "> <img src='./img/binary01.png'>\n"
   ]
  },
  {
   "cell_type": "markdown",
   "metadata": {},
   "source": [
    "---"
   ]
  },
  {
   "cell_type": "markdown",
   "metadata": {},
   "source": [
    "# P4-13"
   ]
  },
  {
   "cell_type": "code",
   "execution_count": 23,
   "metadata": {},
   "outputs": [
    {
     "name": "stdout",
     "output_type": "stream",
     "text": [
      "60 in binary :   0b111100\n",
      "60 << 3 :        0b111100000 、 480\n",
      "60*2**3 :       480\n",
      "60 >> 3 :        0b111 、 7\n",
      "60/2**3 :        7.5\n"
     ]
    }
   ],
   "source": [
    "k=60\n",
    "print('60 in binary :  ',bin(k))\n",
    "print('60 << 3 :       ',bin(k<<3),'、',k<<3)\n",
    "print('60*2**3 :      ',k*2**3)\n",
    "print('60 >> 3 :       ',bin(k>>3),'、',k>>3)\n",
    "print('60/2**3 :       ',k/2**3)"
   ]
  },
  {
   "cell_type": "markdown",
   "metadata": {},
   "source": [
    "###  講義中提到 : 從效能來說，使用「位元運算子」做計算會比使用「算術運算子」得到更好的效能。但其實Python直譯器已經優化效率了，位移運算的速度不見得比較快"
   ]
  },
  {
   "cell_type": "code",
   "execution_count": 24,
   "metadata": {},
   "outputs": [
    {
     "name": "stdout",
     "output_type": "stream",
     "text": [
      "8.98 ns ± 0.0823 ns per loop (mean ± std. dev. of 7 runs, 100000000 loops each)\n"
     ]
    }
   ],
   "source": [
    "%%timeit \n",
    "5*2**3 "
   ]
  },
  {
   "cell_type": "code",
   "execution_count": 25,
   "metadata": {},
   "outputs": [
    {
     "name": "stdout",
     "output_type": "stream",
     "text": [
      "10.1 ns ± 1.48 ns per loop (mean ± std. dev. of 7 runs, 100000000 loops each)\n"
     ]
    }
   ],
   "source": [
    "%%timeit \n",
    "5<<3"
   ]
  },
  {
   "cell_type": "markdown",
   "metadata": {},
   "source": [
    "---"
   ]
  },
  {
   "cell_type": "markdown",
   "metadata": {},
   "source": [
    "# P4-14\n",
    "### &運算 說明圖\n",
    "><img src=\".\\img\\binary.png\"  style='height:350px; width:750px'></img>\n",
    "---\n",
    "### `and` 與 `&`是不同的，`and`是邏輯運算子，`&`是位元運算子\n",
    "---\n",
    "### PS. 在C/javaScript中，邏輯運算子為`&&`(Python中的and)、`||`(Python中的or)、`!`(Python中的not)，與位元運算子很相似、容易混淆"
   ]
  },
  {
   "cell_type": "code",
   "execution_count": 22,
   "metadata": {},
   "outputs": [
    {
     "name": "stdout",
     "output_type": "stream",
     "text": [
      "12\n",
      "13\n"
     ]
    }
   ],
   "source": [
    "print(60 & 13)\n",
    "print(60 and 13)"
   ]
  },
  {
   "cell_type": "code",
   "execution_count": 10,
   "metadata": {},
   "outputs": [
    {
     "name": "stdout",
     "output_type": "stream",
     "text": [
      "61\n",
      "49\n"
     ]
    }
   ],
   "source": [
    "print(60 | 13)\n",
    "print(60 ^ 13)"
   ]
  },
  {
   "cell_type": "markdown",
   "metadata": {},
   "source": [
    "---"
   ]
  },
  {
   "cell_type": "markdown",
   "metadata": {},
   "source": [
    "# P4-16\n",
    "## 運算子優先順序 :\n",
    "https://www.programiz.com/python-programming/precedence-associativity\n",
    "\n",
    ">![OpPriority](.\\img\\OpPriority.png)"
   ]
  },
  {
   "cell_type": "code",
   "execution_count": 13,
   "metadata": {},
   "outputs": [
    {
     "name": "stdout",
     "output_type": "stream",
     "text": [
      "10|b :                11\n",
      "a>10|b<15 :           False\n",
      "(a>10)|(b<15) :       True\n",
      "b&a :                 0\n",
      "a is not b & a < b :  False\n",
      "a is not b & a > b :  False\n",
      "11==10|b :            True\n"
     ]
    }
   ],
   "source": [
    "a, b = 0, 9\n",
    "print('10|b :               ', 10|b)\n",
    "print('a>10|b<15 :          ', a>10|b<15)\n",
    "print('(a>10)|(b<15) :      ', (a>10)|(b<15))\n",
    "print('b&a :                ', b&a)\n",
    "print('a is not b & a < b : ', a is not b & a < b) # 相當於((a is not (b & a)) and ((b & a) < b))\n",
    "print('a is not b & a > b : ', a is not b & a > b) # 相當於((a is not (b & a)) and ((b & a) > b))\n",
    "print('11==10|b :           ', 11==10|b)"
   ]
  }
 ],
 "metadata": {
  "kernelspec": {
   "display_name": "Python 3",
   "language": "python",
   "name": "python3"
  },
  "language_info": {
   "codemirror_mode": {
    "name": "ipython",
    "version": 3
   },
   "file_extension": ".py",
   "mimetype": "text/x-python",
   "name": "python",
   "nbconvert_exporter": "python",
   "pygments_lexer": "ipython3",
   "version": "3.6.4"
  }
 },
 "nbformat": 4,
 "nbformat_minor": 2
}
