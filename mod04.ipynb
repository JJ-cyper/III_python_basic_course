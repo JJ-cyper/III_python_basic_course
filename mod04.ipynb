{
 "cells": [
  {
   "cell_type": "markdown",
   "metadata": {},
   "source": [
    "# Module_04_Python運算子"
   ]
  },
  {
   "cell_type": "markdown",
   "metadata": {},
   "source": [
    "# P4-3"
   ]
  },
  {
   "cell_type": "code",
   "execution_count": null,
   "metadata": {},
   "outputs": [],
   "source": [
    "x = 2\n",
    "print('x == 2 : ', x == 2) # 用逗號隔開要輸出的元素\n",
    "print('x != 2 : ', x != 2)\n",
    "print('x < 5  : ', x < 5)\n",
    "print('x > 2  : ', x > 2)\n",
    "print('x <= 2 : ', x <= 2)\n",
    "print('x >= 2 : ', x >= 2)"
   ]
  },
  {
   "cell_type": "markdown",
   "metadata": {},
   "source": [
    "---"
   ]
  },
  {
   "cell_type": "markdown",
   "metadata": {},
   "source": [
    "# P4-4\n",
    ">### `4 <= 6 > 7`  : 這種寫法只有在Python中適用，其他語言是不通用的"
   ]
  },
  {
   "cell_type": "code",
   "execution_count": null,
   "metadata": {},
   "outputs": [],
   "source": [
    "print('4 <= 6 > 7 :       ', 4 <= 6 > 7)\n",
    "print('4 <= 6 and 6 > 7 : ', 4<= 6 and 6>7)  # 6 > 7 false\n",
    "print('5 > 6 > 3 : ', 5 > 6 > 3)"
   ]
  },
  {
   "cell_type": "markdown",
   "metadata": {},
   "source": [
    "---"
   ]
  },
  {
   "cell_type": "markdown",
   "metadata": {},
   "source": [
    "# P4-5 \n",
    "## 真值表 (Truth Table)\n",
    "><img src=\".\\img\\truth_value.png\"  style='height:400px;'>"
   ]
  },
  {
   "cell_type": "code",
   "execution_count": null,
   "metadata": {},
   "outputs": [],
   "source": [
    "x = True\n",
    "y = False  # or x = 1; y = 0\n",
    "print('not x :   ', not x)\n",
    "print('x and y : ', x and y)\n",
    "print('x or y :  ', x or y)\n",
    "print('x ^ y :   ', x ^ y)"
   ]
  },
  {
   "cell_type": "markdown",
   "metadata": {},
   "source": [
    "---"
   ]
  },
  {
   "cell_type": "markdown",
   "metadata": {},
   "source": [
    "# P4-6"
   ]
  },
  {
   "cell_type": "markdown",
   "metadata": {},
   "source": [
    "### eg.核彈發射系統 &rArr; 所有高官要員直到最後一關的總統都要同意，才能發射"
   ]
  },
  {
   "cell_type": "code",
   "execution_count": null,
   "metadata": {},
   "outputs": [],
   "source": [
    "x = 5 \n",
    "y = 6\n",
    "print('1 and y :', 1 and y) # 若 x 為 Ture =>代表x and y的結果將由y決定!!\n",
    "                                # 如果y是False那 x and y的結果就是False\n",
    "                                # 如果y是True那 x and y的結果就是True\n",
    "\n",
    "print('0 and y :', 0 and y) # 若 x 為 False =>代表 x and y的結果就是False，也不需要再另外運算y了\n",
    "print('x and y :', x and y) # 結論:and 運算的時候，當 x 結果為True時才會評估 y 的值，且x and y的值由y決定 \n",
    "                                                #當 x 結果為False時,x and y的值就是False"
   ]
  },
  {
   "cell_type": "markdown",
   "metadata": {},
   "source": [
    "### eg.FB社團加入系統 &rArr; 所有的社員中只要有一個同意，就能讓新會員加入"
   ]
  },
  {
   "cell_type": "code",
   "execution_count": null,
   "metadata": {},
   "outputs": [],
   "source": [
    "print('x or y : ', x or y) # 若 x 為 False =>代表x and y的結果將由y決定!!\n",
    "                                # 如果y是False那 x and y的結果就是False\n",
    "                                # 如果y是True那 x and y的結果就是True\n",
    "\n",
    "print('1 or y  :', 1 or y) # 若 x 為 Ture =>代表 x and y的結果就是True，也不需要再另外運算y了\n",
    "print('0 or y  :', 0 or y, '\\n') # 結論:or 運算的時候，當 x 結果為False時才會評估 y 的值，且x and y的值由y決定 \n",
    "                                                    # 當 x 結果為True時,x and y的值就是True "
   ]
  },
  {
   "cell_type": "code",
   "execution_count": null,
   "metadata": {},
   "outputs": [],
   "source": [
    "print('not x :   ', not x)\n",
    "print('not y :   ', not y, '\\n')"
   ]
  },
  {
   "cell_type": "code",
   "execution_count": null,
   "metadata": {},
   "outputs": [],
   "source": [
    "a=0\n",
    "b=1\n",
    "print(not a+b,(not a)+b) # “not” 運算子的優先順序較低\n",
    "                         # not a+b -> 相當於not(a+b) -> not(1) -> False\n",
    "                         # (not a)+b -> (1)+1 -> 2"
   ]
  },
  {
   "cell_type": "markdown",
   "metadata": {},
   "source": [
    "---"
   ]
  },
  {
   "cell_type": "markdown",
   "metadata": {},
   "source": [
    "# P4-9\n",
    "## `is` 與 `==` 的差別\n",
    ">### `is` &rArr; 判斷兩個物件的id是否相同\n",
    ">### `==` &rArr; 判斷兩個物件的value是否相同\n",
    "---\n",
    "## 下圖為下列程式碼說明圖:\n",
    "<img src='./img/is_equal.png' style='height:500px'>"
   ]
  },
  {
   "cell_type": "code",
   "execution_count": 1,
   "metadata": {},
   "outputs": [
    {
     "name": "stdout",
     "output_type": "stream",
     "text": [
      "li2 id:     2379530822152\n",
      "li1 id:     2379530822408\n",
      "li2 == li1: True\n",
      "li2 is li1: False\n"
     ]
    }
   ],
   "source": [
    "li1 = [1,2]\n",
    "li2 = li1.copy()\n",
    "print('li2 id:    ', id(li2))\n",
    "print('li1 id:    ', id(li1))\n",
    "print('li2 == li1:', li2==li1)\n",
    "print('li2 is li1:', li2 is li1)"
   ]
  },
  {
   "cell_type": "markdown",
   "metadata": {},
   "source": [
    "---"
   ]
  },
  {
   "cell_type": "markdown",
   "metadata": {},
   "source": [
    "# P4-11\n",
    "## 二進位說明\n",
    "> <img src='./img/binary01.png'>\n"
   ]
  },
  {
   "cell_type": "markdown",
   "metadata": {},
   "source": [
    "---"
   ]
  },
  {
   "cell_type": "markdown",
   "metadata": {},
   "source": [
    "# P4-13"
   ]
  },
  {
   "cell_type": "code",
   "execution_count": 5,
   "metadata": {},
   "outputs": [
    {
     "name": "stdout",
     "output_type": "stream",
     "text": [
      "60 in binary :   0b111100\n",
      "60 << 3 :        0b111100000 、 480\n",
      "60*2**30 :       480\n",
      "60 >> 3 :        0b111 、 7\n",
      "60/2**3 :        7.5\n"
     ]
    }
   ],
   "source": [
    "k=60\n",
    "print('60 in binary :  ',bin(k))\n",
    "print('60 << 3 :       ',bin(k<<3),'、',k<<3)\n",
    "print('60*2**30 :      ',k*2**3)\n",
    "print('60 >> 3 :       ',bin(k>>3),'、',k>>3)\n",
    "print('60/2**3 :       ',k/2**3)"
   ]
  },
  {
   "cell_type": "markdown",
   "metadata": {},
   "source": [
    "###  講義中提到 : 從效能來說，使用「位元運算子」做計算會比使用「算術運算子」得到更好的效能。但其實Python直譯器已經優化效率了，位移運算的速度不見得比較快"
   ]
  },
  {
   "cell_type": "code",
   "execution_count": null,
   "metadata": {},
   "outputs": [],
   "source": [
    "%%timeit \n",
    "5*2**3"
   ]
  },
  {
   "cell_type": "code",
   "execution_count": null,
   "metadata": {},
   "outputs": [],
   "source": [
    "%%timeit \n",
    "5<<3"
   ]
  },
  {
   "cell_type": "markdown",
   "metadata": {},
   "source": [
    "---"
   ]
  },
  {
   "cell_type": "markdown",
   "metadata": {},
   "source": [
    "# P4-14\n",
    "### &運算 說明圖\n",
    "><img src=\".\\img\\binary.png\"  style='height:350px; width:750px'></img>\n",
    "---\n",
    "### `and` 與 `&`是不同的，`and`是邏輯運算子，`&`是位元運算子\n",
    "---\n",
    "### PS. 在C/javaScript中，邏輯運算子為`&&`(Python中的and)、`||`(Python中的or)、`!`(Python中的not)，與位元運算子很相似、容易混淆"
   ]
  },
  {
   "cell_type": "code",
   "execution_count": 8,
   "metadata": {},
   "outputs": [
    {
     "name": "stdout",
     "output_type": "stream",
     "text": [
      "12\n",
      "13\n"
     ]
    }
   ],
   "source": [
    "print(60 & 13)\n",
    "print(60 and 13)"
   ]
  },
  {
   "cell_type": "code",
   "execution_count": 10,
   "metadata": {},
   "outputs": [
    {
     "name": "stdout",
     "output_type": "stream",
     "text": [
      "61\n",
      "49\n"
     ]
    }
   ],
   "source": [
    "print(60 | 13)\n",
    "print(60 ^ 13)"
   ]
  },
  {
   "cell_type": "markdown",
   "metadata": {},
   "source": [
    "---"
   ]
  },
  {
   "cell_type": "markdown",
   "metadata": {},
   "source": [
    "# P4-16\n",
    "## 運算子優先順序 :\n",
    "https://www.programiz.com/python-programming/precedence-associativity\n",
    "\n",
    ">![OpPriority](.\\img\\OpPriority.png)"
   ]
  },
  {
   "cell_type": "code",
   "execution_count": 13,
   "metadata": {},
   "outputs": [
    {
     "name": "stdout",
     "output_type": "stream",
     "text": [
      "10|b :                11\n",
      "a>10|b<15 :           False\n",
      "(a>10)|(b<15) :       True\n",
      "b&a :                 0\n",
      "a is not b & a < b :  False\n",
      "a is not b & a > b :  False\n",
      "11==10|b :            True\n"
     ]
    }
   ],
   "source": [
    "a,b=0,9\n",
    "print('10|b :               ', 10|b)\n",
    "print('a>10|b<15 :          ', a>10|b<15)\n",
    "print('(a>10)|(b<15) :      ', (a>10)|(b<15))\n",
    "print('b&a :                ', b&a)\n",
    "print('a is not b & a < b : ', a is not b & a < b) # 相當於a is not b & a and b & a < b\n",
    "print('a is not b & a > b : ', a is not b & a > b) # 相當於a is not b & a and b & a > b\n",
    "print('11==10|b :           ', 11==10|b)"
   ]
  },
  {
   "cell_type": "code",
   "execution_count": null,
   "metadata": {},
   "outputs": [],
   "source": []
  }
 ],
 "metadata": {
  "kernelspec": {
   "display_name": "Python 3",
   "language": "python",
   "name": "python3"
  },
  "language_info": {
   "codemirror_mode": {
    "name": "ipython",
    "version": 3
   },
   "file_extension": ".py",
   "mimetype": "text/x-python",
   "name": "python",
   "nbconvert_exporter": "python",
   "pygments_lexer": "ipython3",
   "version": "3.6.4"
  }
 },
 "nbformat": 4,
 "nbformat_minor": 2
}
