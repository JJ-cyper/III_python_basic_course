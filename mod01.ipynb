{
 "cells": [
  {
   "cell_type": "markdown",
   "metadata": {},
   "source": [
    "#  <font color=red> Module_01_Python簡介</font>"
   ]
  },
  {
   "cell_type": "markdown",
   "metadata": {},
   "source": [
    "# P1-4, Python 特色\n",
    ">### 程式導向(Process Oriented Program Language)\n",
    ">- 易於維護\n",
    "><img src=\".\\img\\pop_hierarchy.png\" style='height:300px; width:600px'><br>\n",
    "\n",
    ">### 物件導向(Object-Oriented Program Language)\n",
    ">- 讓程式碼易於理解\n",
    ">- 讓程式碼可以重複使用\n",
    "><img src=\".\\img\\oop_example.png\" style='height:300px; width:600px'><br>\n",
    "\n",
    ">### 程式發展歷史\n",
    "><img src=\".\\img\\oop_history.png\" style='height:300px; width:600px'><br>\n",
    "\n",
    ">### 腳本語言、互動性強⇒一個enter 執行一個敘述"
   ]
  },
  {
   "cell_type": "markdown",
   "metadata": {},
   "source": [
    "# P1-5\n",
    "### 程式語言的成長趨勢\n",
    "><img src=\".\\img\\PythonTrend.png\"  style='height:450px; width:900px'>"
   ]
  },
  {
   "cell_type": "markdown",
   "metadata": {},
   "source": [
    "# P1-6\n",
    "\n",
    ">### 具體來說，靜態語言是指變數是否帶有資料型態，反之則為動態語言。 \n",
    ">>### - 靜態語言寫程序時要聲明所有變量的數據類型， 動態類型語言編程不用給任何變量指定數據類型。\n",
    ">>### - 省略變數類型宣告動作 =>動態語言"
   ]
  },
  {
   "cell_type": "markdown",
   "metadata": {},
   "source": [
    "# P1-14\n",
    "## 命令提示字元(簡稱cmd)\n",
    "## 命令提示字元常用指令\n",
    ">## - 變更目錄 (`cd, chdir`)\n",
    ">## - 查詢目錄 (`dir`)\n",
    ">### - `exit` &rArr; 離開cmd\n",
    "## command line 其他常用指令\n",
    ">## 顯示符合指定搜尋模式之檔案的位置。(`where`)\n",
    ">## 建立目錄 (`md, mkdir`)\n",
    ">## 刪除目錄 (`rd, rmdir`)\n",
    ">## 刪除多個 / 一個檔案 (`del, erase`)\n",
    ">## 移動/更改 檔案/資料夾 名稱 (`move`)\n",
    ">## 複製檔案 (`copy`)\n",
    "## command line Python相關指令\n",
    ">### - `python -h` ⇒查看所有在cmd中的python指令說明\n",
    ">### - `python -V`(大寫V) ⇒查看版本(模仿linux指令)\n",
    "\n",
    "---\n",
    "## Python shell \n",
    ">### - ＞＞＞ &rArr; Python的命令提示字元(可以下指令的地方)\n",
    ">### - ．．． &rArr; Python的第二提示字元\n",
    ">### - `exit()` &rArr; 離開Python shell，是Python的內建function\n",
    "---\n",
    "## 如何執行Python程式檔案(.py)\n",
    ">### `python XXX.py`\n",
    "---\n",
    "## print(variable) 與 直接呼叫variable的差異:\n",
    ">### - 直接呼叫variable &rArr; 受益於Python shell 是互動式的，所以才可以直接呼叫變數"
   ]
  },
  {
   "cell_type": "markdown",
   "metadata": {},
   "source": [
    "### <font color=red>請注意，使用print()時數字還是文字容易弄混"
   ]
  },
  {
   "cell_type": "code",
   "execution_count": null,
   "metadata": {},
   "outputs": [],
   "source": [
    "y = 123\n",
    "x = '123'\n",
    "print(y)\n",
    "print(x)"
   ]
  },
  {
   "cell_type": "code",
   "execution_count": null,
   "metadata": {},
   "outputs": [],
   "source": [
    "x"
   ]
  },
  {
   "cell_type": "code",
   "execution_count": null,
   "metadata": {},
   "outputs": [],
   "source": [
    "y"
   ]
  },
  {
   "cell_type": "markdown",
   "metadata": {},
   "source": [
    "\n",
    "---"
   ]
  },
  {
   "cell_type": "markdown",
   "metadata": {},
   "source": [
    "# P1-16 IDE (開發工具箱)\n",
    ">## IDLE (Python 提供的)\n",
    ">## VS code\n",
    ">## Jupyter notebook (網站架構<HTML>)"
   ]
  },
  {
   "cell_type": "markdown",
   "metadata": {},
   "source": [
    "# VScode\n",
    "## 安裝\n",
    ">### 由於VS Code不知道Python的安裝路徑，<font color=red>所以當開啟任一個.py檔案時，VS Code會提示你進行設定。</font>此時我們只要按照下圖的步驟，去設定Python.exe的路徑即可。\n",
    ">### 1. 安裝Python extension\n",
    "<img src='./img/vscode_py_ext.png'  style='height:500px;'><br>\n",
    ">### 2. 設定Python.exe的路徑\n",
    "<img src='./img/vscode_set_py.png'  style='height:500px;'><br>"
   ]
  },
  {
   "cell_type": "markdown",
   "metadata": {},
   "source": [
    "# Jupyter notebook\n",
    "\n",
    "## 安裝\n",
    ">### 1.  Ipython 就是 Jupyter Python 的 Kernal (ipython : 互動式)\n",
    ">### 2.  以<font color=red>系統管理員身分</font>的身分在命令提示字元中輸入指令: `pip install jupyter notebook` (安裝程式都用系統管理員身分)\n",
    ">### 3.  以<font color=red>一般身分</font>的身分在命令提示字元中輸入指令 `jupyter notebook` (執行程式用一般身分即可)\n",
    "## Jupyter notebook 介紹\n",
    ">###  - Jupyter notebook 是一個互動式筆記本，本質是一個Web 應用程式，主頁面由許多Cell組成\n",
    ">>### - Cell &rArr; 每一個Cell都是可以執行的區塊，裡面可以輸入程式碼，Cell又分為兩種模式\n",
    ">>>#### - 命令模式(Cell外框以藍色顯示)\n",
    ">>>#### - 編輯模式(Cell外框以綠色顯示，且會有游標閃動)\n",
    "\n",
    "## Jupyter notebook 常用功能\n",
    ">### - auto compelete &rArr; Tab\n",
    ">### - 快捷鍵 : Help &rarr; Keybosrd ShortCuts\n",
    ">>#### <img src='./img/hotkey_commend.png' style='height:500px'><img src='./img/hotkey_edit.png' style='height:300px'>\n",
    ">### - shift + Tab &rArr; 快速查詢函式、方法的用法\n",
    ">### - ?指令 &rArr; 查看說明文件\n",
    ">### - % &rArr; jupyter的魔法函式\n",
    ">### - ! + cli 指令 &rArr; 執行作業系統命令\n",
    "## 關閉Jupyter notebook \n",
    ">### Server (通常以cmd介面執行)\n",
    ">>### Ctrl+C\n",
    ">### 瀏覽器頁簽\n",
    ">>### 直接關閉即可"
   ]
  },
  {
   "cell_type": "code",
   "execution_count": null,
   "metadata": {},
   "outputs": [],
   "source": [
    "print"
   ]
  },
  {
   "cell_type": "code",
   "execution_count": null,
   "metadata": {},
   "outputs": [],
   "source": [
    "print?"
   ]
  },
  {
   "cell_type": "code",
   "execution_count": null,
   "metadata": {},
   "outputs": [],
   "source": [
    "%timeit print('Hi')"
   ]
  },
  {
   "cell_type": "code",
   "execution_count": null,
   "metadata": {},
   "outputs": [],
   "source": [
    "!dir"
   ]
  },
  {
   "cell_type": "markdown",
   "metadata": {},
   "source": [
    "---"
   ]
  },
  {
   "cell_type": "markdown",
   "metadata": {},
   "source": [
    "### 在Jupyter notebook的Cell中呼叫變數的話，只會出現最後一個結果，如果要在一個Cell內列印出多個變數的數值 &rArr; `print()`"
   ]
  },
  {
   "cell_type": "code",
   "execution_count": null,
   "metadata": {},
   "outputs": [],
   "source": [
    "a = 10\n",
    "b = 20\n",
    "a\n",
    "b"
   ]
  },
  {
   "cell_type": "code",
   "execution_count": null,
   "metadata": {},
   "outputs": [],
   "source": [
    "a = 10\n",
    "b = 20\n",
    "print(a)\n",
    "print(b)"
   ]
  },
  {
   "cell_type": "markdown",
   "metadata": {},
   "source": [
    "---"
   ]
  },
  {
   "cell_type": "markdown",
   "metadata": {},
   "source": [
    "# &spades; 補充 Visual Studio Code-step by step flow debug\n",
    "## 1. 先在Visual Studio Code 適當地設定中斷點, 而在程式執行到某個中斷點就會pause\n",
    ">如下圖第2、3行的紅點<img src='./img/vscode_debug_1.png' style='height:400px'>\n",
    "## 2. 再點選上方頁簽的Run &rarr; Start Debugging(或是輸入f5)來執行程式,用f5執行程式,碰到中斷點,程式執行會pause\n",
    ">如下圖綠框圈選部分<img src='./img/vscode_debug_2.png' style='height:400px'>\n",
    "## 3.選擇Python檔案 (偵錯目前使用中的檔案)\n",
    ">如下圖綠框圈選部分<img src='./img/vscode_debug_3.png' style='height:400px'>\n",
    "## 4.在左邊watch欄位新增要觀察的變數\n",
    ">如下圖綠框圈選部分<img src='./img/vscode_debug_4.png' style='height:400px'>\n",
    "## 5.點擊上方的continue按鈕(或是輸入f5)執行程式\n",
    ">如下圖綠框圈選部分<img src='./img/vscode_debug_5.png' style='height:400px'>\n",
    "## 6.當程式碼的底色變為黃色時，代表執行到該行程式碼，以此觀察如何變數是如何變化的。\n",
    "><img src='./img/vscode_debug.gif' style='height:400px'>"
   ]
  },
  {
   "cell_type": "code",
   "execution_count": null,
   "metadata": {},
   "outputs": [],
   "source": []
  }
 ],
 "metadata": {
  "kernelspec": {
   "display_name": "Python 3",
   "language": "python",
   "name": "python3"
  },
  "language_info": {
   "codemirror_mode": {
    "name": "ipython",
    "version": 3
   },
   "file_extension": ".py",
   "mimetype": "text/x-python",
   "name": "python",
   "nbconvert_exporter": "python",
   "pygments_lexer": "ipython3",
   "version": "3.6.4"
  }
 },
 "nbformat": 4,
 "nbformat_minor": 2
}
