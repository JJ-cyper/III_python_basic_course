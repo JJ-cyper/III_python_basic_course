{
 "cells": [
  {
   "cell_type": "markdown",
   "metadata": {},
   "source": [
    "#  <font color=red> Module_17_異常處理</font>"
   ]
  },
  {
   "cell_type": "markdown",
   "metadata": {},
   "source": [
    "# P17-6"
   ]
  },
  {
   "cell_type": "code",
   "execution_count": 19,
   "metadata": {},
   "outputs": [
    {
     "name": "stdout",
     "output_type": "stream",
     "text": [
      "Input two integers(n1,n2): a,b\n",
      "Error: Input error!\n",
      "finally\n"
     ]
    }
   ],
   "source": [
    "# exception\n",
    "try:\n",
    "    n1,n2 = eval(input('Input two integers(n1,n2): '))\n",
    "    r = n1/n2\n",
    "    print('r =', r)    \n",
    "except:\n",
    "    print('Error: Input data or expression has error!') \n",
    "else:\n",
    "    print('Else: No errors!')\n",
    "finally:\n",
    "    print('Finally: Finish processing!')"
   ]
  },
  {
   "cell_type": "markdown",
   "metadata": {},
   "source": [
    "---"
   ]
  },
  {
   "cell_type": "markdown",
   "metadata": {},
   "source": [
    "# P17-7"
   ]
  },
  {
   "cell_type": "markdown",
   "metadata": {},
   "source": [
    "### 只有except的話，代表沒有指定錯誤類型&rArr;攔截所有錯誤"
   ]
  },
  {
   "cell_type": "code",
   "execution_count": 16,
   "metadata": {},
   "outputs": [
    {
     "name": "stdout",
     "output_type": "stream",
     "text": [
      "Input two integers(n1,n2): a;b\n",
      "Error: Input data or expression has error!\n",
      "Finally: Finish processing!\n"
     ]
    }
   ],
   "source": [
    "# exception\n",
    "try:\n",
    "    n1,n2 = eval(input('Input two integers(n1,n2): '))\n",
    "    r = n1/n2\n",
    "    print('r =', r)    \n",
    "except:\n",
    "    print('Error: Input data or expression has error!') \n",
    "else:\n",
    "    print('Else: No errors!')\n",
    "finally:\n",
    "    print('Finally: Finish processing!')"
   ]
  },
  {
   "cell_type": "markdown",
   "metadata": {},
   "source": [
    "### ㇐個 except 子句可以處理多個類型的異常"
   ]
  },
  {
   "cell_type": "code",
   "execution_count": 13,
   "metadata": {},
   "outputs": [
    {
     "name": "stdout",
     "output_type": "stream",
     "text": [
      "Input two integers(n1,n2): a,b\n",
      "Error: Input error!\n",
      "finally\n"
     ]
    }
   ],
   "source": [
    "try:\n",
    "    n1,n2 = eval(input('Input two integers(n1,n2): '))\n",
    "    r = n1/n2\n",
    "    print('r =', r)    \n",
    "except (SyntaxError,ZeroDivisionError):\n",
    "    print('Error: Please separate input data by comma! Or Devided by zero!')\n",
    "except:\n",
    "    print('Error: Input error!')\n",
    "else:\n",
    "    print('no error')\n",
    "finally:\n",
    "    print('finally')"
   ]
  },
  {
   "cell_type": "markdown",
   "metadata": {},
   "source": [
    "---"
   ]
  },
  {
   "cell_type": "markdown",
   "metadata": {},
   "source": [
    "# P17-9"
   ]
  },
  {
   "cell_type": "markdown",
   "metadata": {},
   "source": [
    "### 把錯誤訊息顯示出來"
   ]
  },
  {
   "cell_type": "code",
   "execution_count": 21,
   "metadata": {},
   "outputs": [
    {
     "name": "stdout",
     "output_type": "stream",
     "text": [
      "Enter a number: a\n",
      "Error:  name 'a' is not defined\n"
     ]
    }
   ],
   "source": [
    "# exception\n",
    "try:\n",
    "    num = eval(input('Enter a number: '))\n",
    "    print('value is', num)    \n",
    "except NameError as e:\n",
    "    print('Error: ',e)"
   ]
  },
  {
   "cell_type": "markdown",
   "metadata": {},
   "source": [
    "---"
   ]
  },
  {
   "cell_type": "markdown",
   "metadata": {},
   "source": [
    "# P17-11"
   ]
  },
  {
   "cell_type": "code",
   "execution_count": 24,
   "metadata": {},
   "outputs": [
    {
     "name": "stdout",
     "output_type": "stream",
     "text": [
      "Enter an index: 10\n",
      "Index Error : Index out of range\n",
      "Enter an index: 8\n",
      "Index Error : Index out of range\n",
      "Enter an index: 100\n",
      "Index Error : Index out of range\n",
      "Enter an index: 2\n",
      "Value is 3\n"
     ]
    }
   ],
   "source": [
    "# exception\n",
    "while True:\n",
    "    try:\n",
    "        lst1 = [1,2,3,4]\n",
    "        idx = int(input('Enter an index: '))\n",
    "        if not 0<=idx<4:\n",
    "            raise IndexError('Index out of range')\n",
    "        print('Value is',lst1[idx])\n",
    "        break\n",
    "    except IndexError as e:\n",
    "        print('Index Error :', e)"
   ]
  }
 ],
 "metadata": {
  "kernelspec": {
   "display_name": "Python 3",
   "language": "python",
   "name": "python3"
  },
  "language_info": {
   "codemirror_mode": {
    "name": "ipython",
    "version": 3
   },
   "file_extension": ".py",
   "mimetype": "text/x-python",
   "name": "python",
   "nbconvert_exporter": "python",
   "pygments_lexer": "ipython3",
   "version": "3.8.3"
  }
 },
 "nbformat": 4,
 "nbformat_minor": 2
}
