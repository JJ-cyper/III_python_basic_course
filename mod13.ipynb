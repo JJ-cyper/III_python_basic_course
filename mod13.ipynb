{
 "cells": [
  {
   "cell_type": "markdown",
   "metadata": {},
   "source": [
    "#  <font color=red> Module_13_function</font>"
   ]
  },
  {
   "cell_type": "markdown",
   "metadata": {},
   "source": [
    "# P13-3\n",
    "## 使用函數/函式的好處 :\n",
    ">### 程式碼重複使用\n",
    ">### 功能切割，模組化，結構化\n",
    ">### 簡化程式提高程式的可讀性\n",
    ">### 易於維護及管理\n",
    "## 之前的章節提到各種內建的Function與不同資料型別的Method，有時會把Function與Method兩個詞混用\n",
    "><img src='./img/method_func.png' style='height:300px'>"
   ]
  },
  {
   "cell_type": "code",
   "execution_count": 2,
   "metadata": {},
   "outputs": [
    {
     "data": {
      "text/plain": [
       "5"
      ]
     },
     "execution_count": 2,
     "metadata": {},
     "output_type": "execute_result"
    }
   ],
   "source": [
    "S='hello'\n",
    "S.upper()\n",
    "len(S)"
   ]
  },
  {
   "cell_type": "markdown",
   "metadata": {},
   "source": [
    "---"
   ]
  },
  {
   "cell_type": "markdown",
   "metadata": {},
   "source": [
    "# P13-6\n",
    "<img src='./img/main_func2.png' style='height:350px'>"
   ]
  },
  {
   "cell_type": "code",
   "execution_count": 12,
   "metadata": {},
   "outputs": [
    {
     "name": "stdout",
     "output_type": "stream",
     "text": [
      "quack\n",
      "------------------------------\n",
      "quack\n",
      "quack\n",
      "quack\n"
     ]
    }
   ],
   "source": [
    "%run mod13/func_def1.py"
   ]
  },
  {
   "cell_type": "code",
   "execution_count": 18,
   "metadata": {},
   "outputs": [
    {
     "name": "stdout",
     "output_type": "stream",
     "text": [
      "Hello Python\n",
      "Python Programming\n",
      "sum of 35+20 : 55\n",
      "sum of 40+50 : 90\n"
     ]
    }
   ],
   "source": [
    "%run mod13/func_def2.py"
   ]
  },
  {
   "cell_type": "markdown",
   "metadata": {},
   "source": [
    "###  如果函數內沒有明確的使用 return 敘述，預設為 “return None”"
   ]
  },
  {
   "cell_type": "code",
   "execution_count": 1,
   "metadata": {},
   "outputs": [
    {
     "name": "stdout",
     "output_type": "stream",
     "text": [
      "11\n",
      "output of sum_num(5,6) : None\n"
     ]
    }
   ],
   "source": [
    "def sum_num(num1,num2):\n",
    "    print(num1+num2)\n",
    "\n",
    "print('output of sum_num(5,6) :', sum_num(5,6))"
   ]
  },
  {
   "cell_type": "code",
   "execution_count": 2,
   "metadata": {},
   "outputs": [
    {
     "name": "stdout",
     "output_type": "stream",
     "text": [
      "Hi\n",
      "None\n"
     ]
    }
   ],
   "source": [
    "ret = print('Hi')\n",
    "print(ret)"
   ]
  },
  {
   "cell_type": "markdown",
   "metadata": {},
   "source": [
    "### 可以使用元組(tuple) 格式傳回多個資料"
   ]
  },
  {
   "cell_type": "code",
   "execution_count": 4,
   "metadata": {},
   "outputs": [
    {
     "name": "stdout",
     "output_type": "stream",
     "text": [
      "11 30\n"
     ]
    }
   ],
   "source": [
    "def sum_num2(num1,num2):\n",
    "    sum_num = num1+num2\n",
    "    multi_num = num1*num2\n",
    "    return sum_num, multi_num\n",
    "\n",
    "a,b = sum_num2(5,6)\n",
    "print(a,b)"
   ]
  },
  {
   "cell_type": "markdown",
   "metadata": {},
   "source": [
    "### 使用help() 或者 ?(Jupyter notebook的功能) 尋找函式的說明(document string)"
   ]
  },
  {
   "cell_type": "code",
   "execution_count": 6,
   "metadata": {},
   "outputs": [],
   "source": [
    "def func1():\n",
    "    '''print python world'''\n",
    "    print('python world')"
   ]
  },
  {
   "cell_type": "code",
   "execution_count": 7,
   "metadata": {},
   "outputs": [
    {
     "name": "stdout",
     "output_type": "stream",
     "text": [
      "Help on function func1 in module __main__:\n",
      "\n",
      "func1()\n",
      "    print python world\n",
      "\n"
     ]
    }
   ],
   "source": [
    "help(func1)"
   ]
  },
  {
   "cell_type": "code",
   "execution_count": 8,
   "metadata": {},
   "outputs": [],
   "source": [
    "func1?"
   ]
  },
  {
   "cell_type": "code",
   "execution_count": 9,
   "metadata": {},
   "outputs": [],
   "source": [
    "print?"
   ]
  },
  {
   "cell_type": "markdown",
   "metadata": {},
   "source": [
    "### 變數 i 若沒有使用到，可使用底線 _ 代替，表示沒有使用到這個變數。"
   ]
  },
  {
   "cell_type": "code",
   "execution_count": 12,
   "metadata": {},
   "outputs": [
    {
     "name": "stdout",
     "output_type": "stream",
     "text": [
      "good\n",
      "good\n",
      "good\n"
     ]
    }
   ],
   "source": [
    "for _ in range(3):  #因為 i 沒用到\n",
    "    print('good')"
   ]
  },
  {
   "cell_type": "markdown",
   "metadata": {},
   "source": [
    "---"
   ]
  },
  {
   "cell_type": "markdown",
   "metadata": {},
   "source": [
    "# P13-11\n",
    "###### (P15-7 First)"
   ]
  },
  {
   "cell_type": "markdown",
   "metadata": {},
   "source": [
    "# Assignment 只是建立物件的參考(References to objects)，Python中的reference就是 C語言的指標\n",
    "><img src='./img/py_c_pointer.gif' style='height:400px'>"
   ]
  },
  {
   "cell_type": "markdown",
   "metadata": {},
   "source": [
    "### Python 的 pass by assignment 相當於  使用C的Call-by-value的風格\n",
    "<img src='./img/pass_by_assignment1_1.png' style='height:400px'>\n",
    "<img src='./img/pass_by_assignment1_2.png' style='height:400px'>"
   ]
  },
  {
   "cell_type": "code",
   "execution_count": 13,
   "metadata": {},
   "outputs": [
    {
     "name": "stdout",
     "output_type": "stream",
     "text": [
      "In function, before change: 20\n",
      "In function, after change: 50\n",
      "Outside function: 20\n"
     ]
    }
   ],
   "source": [
    "%run mod13/argument1.py"
   ]
  },
  {
   "cell_type": "markdown",
   "metadata": {},
   "source": [
    "### Python的List 就是 C 的指標陣列(array of pointer)\n",
    "<img src='./img/pointers_array.png' style='height:500px'>"
   ]
  },
  {
   "cell_type": "markdown",
   "metadata": {},
   "source": [
    "### pass by assignment for mutable data\n",
    "<img src='./img/pass_by_assignment_mutable1_1.png' style='height:400px'>\n",
    "<img src='./img/pass_by_assignment_mutable1_2.png' style='height:400px'>"
   ]
  },
  {
   "cell_type": "code",
   "execution_count": 5,
   "metadata": {},
   "outputs": [
    {
     "name": "stdout",
     "output_type": "stream",
     "text": [
      "In function, before change: [10, 20, 30]\n",
      "In function, after change: [10, 20, 50]\n",
      "Outside function: [10, 20, 50]\n"
     ]
    }
   ],
   "source": [
    "%run mod13/argument2.py"
   ]
  },
  {
   "cell_type": "markdown",
   "metadata": {},
   "source": [
    "---"
   ]
  },
  {
   "cell_type": "markdown",
   "metadata": {},
   "source": [
    "# &spades; 補充\n",
    "## <a href='https://docs.python.org/3/faq/programming.html#how-do-i-write-a-function-with-output-parameters-call-by-reference'>How do I write a function with output parameters (call by reference)?</a>"
   ]
  },
  {
   "cell_type": "code",
   "execution_count": null,
   "metadata": {},
   "outputs": [],
   "source": [
    "def func2(a, b): \n",
    "    a = 'new-value' # a and b are local names\n",
    "    b = b + 1 # assigned to new objects\n",
    "    return a, b # return new valuesx, y = 'old-value', 99\n",
    "\n",
    "x, y = 'old-value', 99 # x and y are aliasees of 'old-value' and 99\n",
    "x, y = func2(x, y)\n",
    "print(x, y) # output: new-value 100"
   ]
  }
 ],
 "metadata": {
  "kernelspec": {
   "display_name": "Python 3",
   "language": "python",
   "name": "python3"
  },
  "language_info": {
   "codemirror_mode": {
    "name": "ipython",
    "version": 3
   },
   "file_extension": ".py",
   "mimetype": "text/x-python",
   "name": "python",
   "nbconvert_exporter": "python",
   "pygments_lexer": "ipython3",
   "version": "3.8.2"
  }
 },
 "nbformat": 4,
 "nbformat_minor": 2
}
